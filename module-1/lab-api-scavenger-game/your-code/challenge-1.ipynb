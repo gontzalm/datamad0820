{
 "metadata": {
  "language_info": {
   "codemirror_mode": {
    "name": "ipython",
    "version": 3
   },
   "file_extension": ".py",
   "mimetype": "text/x-python",
   "name": "python",
   "nbconvert_exporter": "python",
   "pygments_lexer": "ipython3",
   "version": "3.8.5-final"
  },
  "orig_nbformat": 2,
  "kernelspec": {
   "name": "python_defaultSpec_1599572672588",
   "display_name": "Python 3.8.5 64-bit ('ih': conda)"
  }
 },
 "nbformat": 4,
 "nbformat_minor": 2,
 "cells": [
  {
   "cell_type": "code",
   "execution_count": 1,
   "metadata": {},
   "outputs": [],
   "source": [
    "import requests\n",
    "import os\n",
    "from dotenv import load_dotenv\n",
    "\n",
    "load_dotenv()\n",
    "authkey = os.getenv(\"AUTHKEY\")\n",
    "headers = {\"Authorization\": f\"Bearer {authkey}\"}"
   ]
  },
  {
   "cell_type": "code",
   "execution_count": 2,
   "metadata": {},
   "outputs": [],
   "source": [
    "base_url = \"https://api.github.com\"\n",
    "owner = \"ironhack-datalabs\"\n",
    "repo = \"datamad0820\"\n",
    "endpoint = f\"/repos/{owner}/{repo}/forks\""
   ]
  },
  {
   "cell_type": "code",
   "execution_count": 3,
   "metadata": {},
   "outputs": [],
   "source": [
    "res = requests.get(f\"{base_url}{endpoint}\", headers=headers)\n",
    "fork_list = res.json()"
   ]
  },
  {
   "cell_type": "code",
   "execution_count": 4,
   "metadata": {
    "tags": []
   },
   "outputs": [
    {
     "output_type": "stream",
     "name": "stdout",
     "text": "['Jupyter Notebook']\n"
    }
   ],
   "source": [
    "languages = []\n",
    "for fork in fork_list:\n",
    "    languages.append(fork[\"language\"])\n",
    "languages = list(set(languages))\n",
    "languages.remove(None)\n",
    "print(languages)"
   ]
  },
  {
   "cell_type": "code",
   "execution_count": 5,
   "metadata": {
    "tags": []
   },
   "outputs": [
    {
     "output_type": "stream",
     "name": "stdout",
     "text": "['Jupyter Notebook', 'HTML', 'Python']\n"
    }
   ],
   "source": [
    "# better version using languages-url\n",
    "\n",
    "# get languages\n",
    "languages_full = []\n",
    "for fork in fork_list:\n",
    "    res = requests.get(fork[\"languages_url\"], headers=headers).json() # parse dict\n",
    "    languages_full.append(list(res.keys())) # extract keys (languages) and append\n",
    "languages_full = [lang for sublist in languages_full for lang in sublist] # flatten list\n",
    "languages_full = list(set(languages_full)) # get unique languages\n",
    "print(languages_full)"
   ]
  }
 ]
}