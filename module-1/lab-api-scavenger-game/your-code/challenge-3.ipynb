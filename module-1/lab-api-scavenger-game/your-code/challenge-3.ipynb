{
 "metadata": {
  "language_info": {
   "codemirror_mode": {
    "name": "ipython",
    "version": 3
   },
   "file_extension": ".py",
   "mimetype": "text/x-python",
   "name": "python",
   "nbconvert_exporter": "python",
   "pygments_lexer": "ipython3",
   "version": "3.8.5-final"
  },
  "orig_nbformat": 2,
  "kernelspec": {
   "name": "python_defaultSpec_1599580167438",
   "display_name": "Python 3.8.5 64-bit ('ih': conda)"
  }
 },
 "nbformat": 4,
 "nbformat_minor": 2,
 "cells": [
  {
   "cell_type": "code",
   "execution_count": 1,
   "metadata": {},
   "outputs": [],
   "source": [
    "import requests\n",
    "import os\n",
    "from dotenv import load_dotenv\n",
    "\n",
    "load_dotenv()\n",
    "authkey = os.getenv(\"AUTHKEY\")\n",
    "headers = {\"Authorization\": f\"Bearer {authkey}\"}"
   ]
  },
  {
   "cell_type": "code",
   "execution_count": 7,
   "metadata": {},
   "outputs": [],
   "source": [
    "base_url = \"https://api.github.com\"\n",
    "owner = \"ironhack-datalabs\"\n",
    "repo = \"scavenger\"\n",
    "endpoint = f\"{base_url}/search/code\""
   ]
  },
  {
   "cell_type": "code",
   "execution_count": 41,
   "metadata": {},
   "outputs": [],
   "source": [
    "q = f\"of+repo:{owner}/{repo}\"\n",
    "res = requests.get(endpoint, headers=headers, params={\"q\": q})"
   ]
  },
  {
   "cell_type": "code",
   "execution_count": 42,
   "metadata": {},
   "outputs": [
    {
     "output_type": "execute_result",
     "data": {
      "text/plain": "{'total_count': 2,\n 'incomplete_results': False,\n 'items': [{'name': '.0006.scavengerhunt',\n   'path': '15024/.0006.scavengerhunt',\n   'sha': '1c9064284a24b3486015eafdb391b141c27ada2b',\n   'url': 'https://api.github.com/repositories/162375181/contents/15024/.0006.scavengerhunt?ref=9308ccc8a4c34c5e3a991ee815222a9691c32476',\n   'git_url': 'https://api.github.com/repositories/162375181/git/blobs/1c9064284a24b3486015eafdb391b141c27ada2b',\n   'html_url': 'https://github.com/ironhack-datalabs/scavenger/blob/9308ccc8a4c34c5e3a991ee815222a9691c32476/15024/.0006.scavengerhunt',\n   'repository': {'id': 162375181,\n    'node_id': 'MDEwOlJlcG9zaXRvcnkxNjIzNzUxODE=',\n    'name': 'scavenger',\n    'full_name': 'ironhack-datalabs/scavenger',\n    'private': False,\n    'owner': {'login': 'ironhack-datalabs',\n     'id': 44225188,\n     'node_id': 'MDEyOk9yZ2FuaXphdGlvbjQ0MjI1MTg4',\n     'avatar_url': 'https://avatars2.githubusercontent.com/u/44225188?v=4',\n     'gravatar_id': '',\n     'url': 'https://api.github.com/users/ironhack-datalabs',\n     'html_url': 'https://github.com/ironhack-datalabs',\n     'followers_url': 'https://api.github.com/users/ironhack-datalabs/followers',\n     'following_url': 'https://api.github.com/users/ironhack-datalabs/following{/other_user}',\n     'gists_url': 'https://api.github.com/users/ironhack-datalabs/gists{/gist_id}',\n     'starred_url': 'https://api.github.com/users/ironhack-datalabs/starred{/owner}{/repo}',\n     'subscriptions_url': 'https://api.github.com/users/ironhack-datalabs/subscriptions',\n     'organizations_url': 'https://api.github.com/users/ironhack-datalabs/orgs',\n     'repos_url': 'https://api.github.com/users/ironhack-datalabs/repos',\n     'events_url': 'https://api.github.com/users/ironhack-datalabs/events{/privacy}',\n     'received_events_url': 'https://api.github.com/users/ironhack-datalabs/received_events',\n     'type': 'Organization',\n     'site_admin': False},\n    'html_url': 'https://github.com/ironhack-datalabs/scavenger',\n    'description': None,\n    'fork': False,\n    'url': 'https://api.github.com/repos/ironhack-datalabs/scavenger',\n    'forks_url': 'https://api.github.com/repos/ironhack-datalabs/scavenger/forks',\n    'keys_url': 'https://api.github.com/repos/ironhack-datalabs/scavenger/keys{/key_id}',\n    'collaborators_url': 'https://api.github.com/repos/ironhack-datalabs/scavenger/collaborators{/collaborator}',\n    'teams_url': 'https://api.github.com/repos/ironhack-datalabs/scavenger/teams',\n    'hooks_url': 'https://api.github.com/repos/ironhack-datalabs/scavenger/hooks',\n    'issue_events_url': 'https://api.github.com/repos/ironhack-datalabs/scavenger/issues/events{/number}',\n    'events_url': 'https://api.github.com/repos/ironhack-datalabs/scavenger/events',\n    'assignees_url': 'https://api.github.com/repos/ironhack-datalabs/scavenger/assignees{/user}',\n    'branches_url': 'https://api.github.com/repos/ironhack-datalabs/scavenger/branches{/branch}',\n    'tags_url': 'https://api.github.com/repos/ironhack-datalabs/scavenger/tags',\n    'blobs_url': 'https://api.github.com/repos/ironhack-datalabs/scavenger/git/blobs{/sha}',\n    'git_tags_url': 'https://api.github.com/repos/ironhack-datalabs/scavenger/git/tags{/sha}',\n    'git_refs_url': 'https://api.github.com/repos/ironhack-datalabs/scavenger/git/refs{/sha}',\n    'trees_url': 'https://api.github.com/repos/ironhack-datalabs/scavenger/git/trees{/sha}',\n    'statuses_url': 'https://api.github.com/repos/ironhack-datalabs/scavenger/statuses/{sha}',\n    'languages_url': 'https://api.github.com/repos/ironhack-datalabs/scavenger/languages',\n    'stargazers_url': 'https://api.github.com/repos/ironhack-datalabs/scavenger/stargazers',\n    'contributors_url': 'https://api.github.com/repos/ironhack-datalabs/scavenger/contributors',\n    'subscribers_url': 'https://api.github.com/repos/ironhack-datalabs/scavenger/subscribers',\n    'subscription_url': 'https://api.github.com/repos/ironhack-datalabs/scavenger/subscription',\n    'commits_url': 'https://api.github.com/repos/ironhack-datalabs/scavenger/commits{/sha}',\n    'git_commits_url': 'https://api.github.com/repos/ironhack-datalabs/scavenger/git/commits{/sha}',\n    'comments_url': 'https://api.github.com/repos/ironhack-datalabs/scavenger/comments{/number}',\n    'issue_comment_url': 'https://api.github.com/repos/ironhack-datalabs/scavenger/issues/comments{/number}',\n    'contents_url': 'https://api.github.com/repos/ironhack-datalabs/scavenger/contents/{+path}',\n    'compare_url': 'https://api.github.com/repos/ironhack-datalabs/scavenger/compare/{base}...{head}',\n    'merges_url': 'https://api.github.com/repos/ironhack-datalabs/scavenger/merges',\n    'archive_url': 'https://api.github.com/repos/ironhack-datalabs/scavenger/{archive_format}{/ref}',\n    'downloads_url': 'https://api.github.com/repos/ironhack-datalabs/scavenger/downloads',\n    'issues_url': 'https://api.github.com/repos/ironhack-datalabs/scavenger/issues{/number}',\n    'pulls_url': 'https://api.github.com/repos/ironhack-datalabs/scavenger/pulls{/number}',\n    'milestones_url': 'https://api.github.com/repos/ironhack-datalabs/scavenger/milestones{/number}',\n    'notifications_url': 'https://api.github.com/repos/ironhack-datalabs/scavenger/notifications{?since,all,participating}',\n    'labels_url': 'https://api.github.com/repos/ironhack-datalabs/scavenger/labels{/name}',\n    'releases_url': 'https://api.github.com/repos/ironhack-datalabs/scavenger/releases{/id}',\n    'deployments_url': 'https://api.github.com/repos/ironhack-datalabs/scavenger/deployments'},\n   'score': 1.0},\n  {'name': '.0014.scavengerhunt',\n   'path': '49418/.0014.scavengerhunt',\n   'sha': '1c9064284a24b3486015eafdb391b141c27ada2b',\n   'url': 'https://api.github.com/repositories/162375181/contents/49418/.0014.scavengerhunt?ref=9308ccc8a4c34c5e3a991ee815222a9691c32476',\n   'git_url': 'https://api.github.com/repositories/162375181/git/blobs/1c9064284a24b3486015eafdb391b141c27ada2b',\n   'html_url': 'https://github.com/ironhack-datalabs/scavenger/blob/9308ccc8a4c34c5e3a991ee815222a9691c32476/49418/.0014.scavengerhunt',\n   'repository': {'id': 162375181,\n    'node_id': 'MDEwOlJlcG9zaXRvcnkxNjIzNzUxODE=',\n    'name': 'scavenger',\n    'full_name': 'ironhack-datalabs/scavenger',\n    'private': False,\n    'owner': {'login': 'ironhack-datalabs',\n     'id': 44225188,\n     'node_id': 'MDEyOk9yZ2FuaXphdGlvbjQ0MjI1MTg4',\n     'avatar_url': 'https://avatars2.githubusercontent.com/u/44225188?v=4',\n     'gravatar_id': '',\n     'url': 'https://api.github.com/users/ironhack-datalabs',\n     'html_url': 'https://github.com/ironhack-datalabs',\n     'followers_url': 'https://api.github.com/users/ironhack-datalabs/followers',\n     'following_url': 'https://api.github.com/users/ironhack-datalabs/following{/other_user}',\n     'gists_url': 'https://api.github.com/users/ironhack-datalabs/gists{/gist_id}',\n     'starred_url': 'https://api.github.com/users/ironhack-datalabs/starred{/owner}{/repo}',\n     'subscriptions_url': 'https://api.github.com/users/ironhack-datalabs/subscriptions',\n     'organizations_url': 'https://api.github.com/users/ironhack-datalabs/orgs',\n     'repos_url': 'https://api.github.com/users/ironhack-datalabs/repos',\n     'events_url': 'https://api.github.com/users/ironhack-datalabs/events{/privacy}',\n     'received_events_url': 'https://api.github.com/users/ironhack-datalabs/received_events',\n     'type': 'Organization',\n     'site_admin': False},\n    'html_url': 'https://github.com/ironhack-datalabs/scavenger',\n    'description': None,\n    'fork': False,\n    'url': 'https://api.github.com/repos/ironhack-datalabs/scavenger',\n    'forks_url': 'https://api.github.com/repos/ironhack-datalabs/scavenger/forks',\n    'keys_url': 'https://api.github.com/repos/ironhack-datalabs/scavenger/keys{/key_id}',\n    'collaborators_url': 'https://api.github.com/repos/ironhack-datalabs/scavenger/collaborators{/collaborator}',\n    'teams_url': 'https://api.github.com/repos/ironhack-datalabs/scavenger/teams',\n    'hooks_url': 'https://api.github.com/repos/ironhack-datalabs/scavenger/hooks',\n    'issue_events_url': 'https://api.github.com/repos/ironhack-datalabs/scavenger/issues/events{/number}',\n    'events_url': 'https://api.github.com/repos/ironhack-datalabs/scavenger/events',\n    'assignees_url': 'https://api.github.com/repos/ironhack-datalabs/scavenger/assignees{/user}',\n    'branches_url': 'https://api.github.com/repos/ironhack-datalabs/scavenger/branches{/branch}',\n    'tags_url': 'https://api.github.com/repos/ironhack-datalabs/scavenger/tags',\n    'blobs_url': 'https://api.github.com/repos/ironhack-datalabs/scavenger/git/blobs{/sha}',\n    'git_tags_url': 'https://api.github.com/repos/ironhack-datalabs/scavenger/git/tags{/sha}',\n    'git_refs_url': 'https://api.github.com/repos/ironhack-datalabs/scavenger/git/refs{/sha}',\n    'trees_url': 'https://api.github.com/repos/ironhack-datalabs/scavenger/git/trees{/sha}',\n    'statuses_url': 'https://api.github.com/repos/ironhack-datalabs/scavenger/statuses/{sha}',\n    'languages_url': 'https://api.github.com/repos/ironhack-datalabs/scavenger/languages',\n    'stargazers_url': 'https://api.github.com/repos/ironhack-datalabs/scavenger/stargazers',\n    'contributors_url': 'https://api.github.com/repos/ironhack-datalabs/scavenger/contributors',\n    'subscribers_url': 'https://api.github.com/repos/ironhack-datalabs/scavenger/subscribers',\n    'subscription_url': 'https://api.github.com/repos/ironhack-datalabs/scavenger/subscription',\n    'commits_url': 'https://api.github.com/repos/ironhack-datalabs/scavenger/commits{/sha}',\n    'git_commits_url': 'https://api.github.com/repos/ironhack-datalabs/scavenger/git/commits{/sha}',\n    'comments_url': 'https://api.github.com/repos/ironhack-datalabs/scavenger/comments{/number}',\n    'issue_comment_url': 'https://api.github.com/repos/ironhack-datalabs/scavenger/issues/comments{/number}',\n    'contents_url': 'https://api.github.com/repos/ironhack-datalabs/scavenger/contents/{+path}',\n    'compare_url': 'https://api.github.com/repos/ironhack-datalabs/scavenger/compare/{base}...{head}',\n    'merges_url': 'https://api.github.com/repos/ironhack-datalabs/scavenger/merges',\n    'archive_url': 'https://api.github.com/repos/ironhack-datalabs/scavenger/{archive_format}{/ref}',\n    'downloads_url': 'https://api.github.com/repos/ironhack-datalabs/scavenger/downloads',\n    'issues_url': 'https://api.github.com/repos/ironhack-datalabs/scavenger/issues{/number}',\n    'pulls_url': 'https://api.github.com/repos/ironhack-datalabs/scavenger/pulls{/number}',\n    'milestones_url': 'https://api.github.com/repos/ironhack-datalabs/scavenger/milestones{/number}',\n    'notifications_url': 'https://api.github.com/repos/ironhack-datalabs/scavenger/notifications{?since,all,participating}',\n    'labels_url': 'https://api.github.com/repos/ironhack-datalabs/scavenger/labels{/name}',\n    'releases_url': 'https://api.github.com/repos/ironhack-datalabs/scavenger/releases{/id}',\n    'deployments_url': 'https://api.github.com/repos/ironhack-datalabs/scavenger/deployments'},\n   'score': 1.0}]}"
     },
     "metadata": {},
     "execution_count": 42
    }
   ],
   "source": [
    "res.json()"
   ]
  },
  {
   "cell_type": "code",
   "execution_count": 35,
   "metadata": {},
   "outputs": [
    {
     "output_type": "execute_result",
     "data": {
      "text/plain": "'scavengerhunt+repo:ironhack-datalabs/scavenger'"
     },
     "metadata": {},
     "execution_count": 35
    }
   ],
   "source": [
    "q"
   ]
  },
  {
   "cell_type": "code",
   "execution_count": null,
   "metadata": {},
   "outputs": [],
   "source": []
  }
 ]
}