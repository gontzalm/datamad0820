{
 "cells": [
  {
   "cell_type": "markdown",
   "metadata": {},
   "source": [
    "# Challenge: Promotions\n",
    "\n",
    "In this challenge, you'll develop codes to parse and analyze data returned from another API on Zalando such as [Promos homme (Men's Promotions)\n",
    "](https://www.zalando.fr/promo-homme/) or [Promos femme (Women's Promotions)](https://www.zalando.fr/promo-femme/). The workflow is almost the same as in the guided lesson but you'll work with different data."
   ]
  },
  {
   "cell_type": "markdown",
   "metadata": {},
   "source": [
    "## Obtaining the link\n",
    "\n",
    "Wrote your codes in the cell below to obtain the data from the API endpoint you choose. A recap of the workflow:\n",
    "\n",
    "1. Examine the webpages and choose one that you want to work with.\n",
    "\n",
    "1. Use Google Chrome's DevTools to inspect the XHR network requests. Find out the API endpoint that serves data to the webpage.\n",
    "\n",
    "1. Test the API endpoint in the browser to verify its data.\n",
    "\n",
    "1. Change the page number offset of the API URL to test if it's working."
   ]
  },
  {
   "cell_type": "code",
   "execution_count": 1,
   "metadata": {},
   "outputs": [],
   "source": [
    "# Select shirts for men in promotion"
   ]
  },
  {
   "cell_type": "markdown",
   "metadata": {},
   "source": [
    "## Reading the data\n",
    "\n",
    "In the next cell, use Python to obtain data from the API endpoint you chose in the previous step. Workflow:\n",
    "\n",
    "1. Import libraries.\n",
    "\n",
    "1. Define the initial API endpoint URL.\n",
    "\n",
    "1. Make request to obtain data of the 1st page. Flatten the data and store it in an empty object variable.\n",
    "\n",
    "1. Find out the total page count in the 1st page data.\n",
    "\n",
    "1. Use a FOR loop to make requests for the additional pages from 2 to page count. Append the data of each additional page to the flatterned data object.\n",
    "\n",
    "1. Print and review the data you obtained."
   ]
  },
  {
   "cell_type": "code",
   "execution_count": 31,
   "metadata": {},
   "outputs": [],
   "source": [
    "import urllib\n",
    "import json\n",
    "import pandas as pd"
   ]
  },
  {
   "cell_type": "code",
   "execution_count": 45,
   "metadata": {},
   "outputs": [
    {
     "output_type": "execute_result",
     "data": {
      "text/plain": "             sku                                               name  \\\n0  TOB22D00R-K11   ORIGINAL STRETCH SLIM FIT - Chemise - black iris   \n1  TOB22D00R-K12  ORIGINAL STRETCH SLIM FIT - Chemise - lavender...   \n2  TOB22D00R-A11  ORIGINAL STRETCH SLIM FIT - Chemise - classic ...   \n3  TOB22D00R-Q11        ORIGINAL STRETCH SLIM FIT - Chemise - black   \n4  LE222D07E-Q11  BARSTOW WESTERN  - Chemise - marble black deni...   \n\n                    sizes                                            url_key  \\\n0  [XS, S, M, L, XL, XXL]  tommy-jeans-original-stretch-slim-fit-chemise-...   \n1  [XS, S, M, L, XL, XXL]  tommy-jeans-original-stretch-slim-fit-chemise-...   \n2  [XS, S, M, L, XL, XXL]  tommy-jeans-original-stretch-slim-fit-chemise-...   \n3  [XS, S, M, L, XL, XXL]  tommy-jeans-original-stretch-slim-fit-chemise-...   \n4      [S, M, L, XL, XXL]  levisr-barstow-western-standard-chemise-le222d...   \n\n                                               media   brand_name  is_premium  \\\n0  [{'path': 'spp-media-p1/ff32f866097d31a3bbf2a0...  Tommy Jeans       False   \n1  [{'path': 'spp-media-p1/a3ed6630e59f3ec8995831...  Tommy Jeans       False   \n2  [{'path': 'spp-media-p1/66400673be5c3a23aae85d...  Tommy Jeans       False   \n3  [{'path': 'spp-media-p1/64b8ee56495c34a99aab37...  Tommy Jeans       False   \n4  [{'path': 'spp-media-p1/fe5dc27943553b54ac30db...      Levi's®       False   \n\n  family_articles                                              flags  \\\n0              []  [{'key': 'discountRate', 'value': '-30%', 'tra...   \n1              []  [{'key': 'discountRate', 'value': '-25%', 'tra...   \n2              []  [{'key': 'discountRate', 'value': '-30%', 'tra...   \n3              []  [{'key': 'discountRate', 'value': 'Jusqu’à -25...   \n4              []  [{'key': 'discountRate', 'value': '-30%', 'tra...   \n\n  product_group delivery_promises price.original price.promotional  \\\n0      clothing                []        69,95 €           48,95 €   \n1      clothing                []        69,95 €           52,45 €   \n2      clothing                []        69,95 €           48,95 €   \n3      clothing                []        69,95 €           52,45 €   \n4      clothing                []        79,95 €           55,95 €   \n\n   price.has_different_prices  price.has_different_original_prices  \\\n0                       False                                False   \n1                       False                                False   \n2                       False                                False   \n3                        True                                False   \n4                       False                                False   \n\n   price.has_different_promotional_prices  \\\n0                                   False   \n1                                   False   \n2                                   False   \n3                                    True   \n4                                   False   \n\n   price.has_discount_on_selected_sizes_only outfits  \n0                                      False     NaN  \n1                                      False     NaN  \n2                                      False     NaN  \n3                                      False     NaN  \n4                                      False     NaN  ",
      "text/html": "<div>\n<style scoped>\n    .dataframe tbody tr th:only-of-type {\n        vertical-align: middle;\n    }\n\n    .dataframe tbody tr th {\n        vertical-align: top;\n    }\n\n    .dataframe thead th {\n        text-align: right;\n    }\n</style>\n<table border=\"1\" class=\"dataframe\">\n  <thead>\n    <tr style=\"text-align: right;\">\n      <th></th>\n      <th>sku</th>\n      <th>name</th>\n      <th>sizes</th>\n      <th>url_key</th>\n      <th>media</th>\n      <th>brand_name</th>\n      <th>is_premium</th>\n      <th>family_articles</th>\n      <th>flags</th>\n      <th>product_group</th>\n      <th>delivery_promises</th>\n      <th>price.original</th>\n      <th>price.promotional</th>\n      <th>price.has_different_prices</th>\n      <th>price.has_different_original_prices</th>\n      <th>price.has_different_promotional_prices</th>\n      <th>price.has_discount_on_selected_sizes_only</th>\n      <th>outfits</th>\n    </tr>\n  </thead>\n  <tbody>\n    <tr>\n      <th>0</th>\n      <td>TOB22D00R-K11</td>\n      <td>ORIGINAL STRETCH SLIM FIT - Chemise - black iris</td>\n      <td>[XS, S, M, L, XL, XXL]</td>\n      <td>tommy-jeans-original-stretch-slim-fit-chemise-...</td>\n      <td>[{'path': 'spp-media-p1/ff32f866097d31a3bbf2a0...</td>\n      <td>Tommy Jeans</td>\n      <td>False</td>\n      <td>[]</td>\n      <td>[{'key': 'discountRate', 'value': '-30%', 'tra...</td>\n      <td>clothing</td>\n      <td>[]</td>\n      <td>69,95 €</td>\n      <td>48,95 €</td>\n      <td>False</td>\n      <td>False</td>\n      <td>False</td>\n      <td>False</td>\n      <td>NaN</td>\n    </tr>\n    <tr>\n      <th>1</th>\n      <td>TOB22D00R-K12</td>\n      <td>ORIGINAL STRETCH SLIM FIT - Chemise - lavender...</td>\n      <td>[XS, S, M, L, XL, XXL]</td>\n      <td>tommy-jeans-original-stretch-slim-fit-chemise-...</td>\n      <td>[{'path': 'spp-media-p1/a3ed6630e59f3ec8995831...</td>\n      <td>Tommy Jeans</td>\n      <td>False</td>\n      <td>[]</td>\n      <td>[{'key': 'discountRate', 'value': '-25%', 'tra...</td>\n      <td>clothing</td>\n      <td>[]</td>\n      <td>69,95 €</td>\n      <td>52,45 €</td>\n      <td>False</td>\n      <td>False</td>\n      <td>False</td>\n      <td>False</td>\n      <td>NaN</td>\n    </tr>\n    <tr>\n      <th>2</th>\n      <td>TOB22D00R-A11</td>\n      <td>ORIGINAL STRETCH SLIM FIT - Chemise - classic ...</td>\n      <td>[XS, S, M, L, XL, XXL]</td>\n      <td>tommy-jeans-original-stretch-slim-fit-chemise-...</td>\n      <td>[{'path': 'spp-media-p1/66400673be5c3a23aae85d...</td>\n      <td>Tommy Jeans</td>\n      <td>False</td>\n      <td>[]</td>\n      <td>[{'key': 'discountRate', 'value': '-30%', 'tra...</td>\n      <td>clothing</td>\n      <td>[]</td>\n      <td>69,95 €</td>\n      <td>48,95 €</td>\n      <td>False</td>\n      <td>False</td>\n      <td>False</td>\n      <td>False</td>\n      <td>NaN</td>\n    </tr>\n    <tr>\n      <th>3</th>\n      <td>TOB22D00R-Q11</td>\n      <td>ORIGINAL STRETCH SLIM FIT - Chemise - black</td>\n      <td>[XS, S, M, L, XL, XXL]</td>\n      <td>tommy-jeans-original-stretch-slim-fit-chemise-...</td>\n      <td>[{'path': 'spp-media-p1/64b8ee56495c34a99aab37...</td>\n      <td>Tommy Jeans</td>\n      <td>False</td>\n      <td>[]</td>\n      <td>[{'key': 'discountRate', 'value': 'Jusqu’à -25...</td>\n      <td>clothing</td>\n      <td>[]</td>\n      <td>69,95 €</td>\n      <td>52,45 €</td>\n      <td>True</td>\n      <td>False</td>\n      <td>True</td>\n      <td>False</td>\n      <td>NaN</td>\n    </tr>\n    <tr>\n      <th>4</th>\n      <td>LE222D07E-Q11</td>\n      <td>BARSTOW WESTERN  - Chemise - marble black deni...</td>\n      <td>[S, M, L, XL, XXL]</td>\n      <td>levisr-barstow-western-standard-chemise-le222d...</td>\n      <td>[{'path': 'spp-media-p1/fe5dc27943553b54ac30db...</td>\n      <td>Levi's®</td>\n      <td>False</td>\n      <td>[]</td>\n      <td>[{'key': 'discountRate', 'value': '-30%', 'tra...</td>\n      <td>clothing</td>\n      <td>[]</td>\n      <td>79,95 €</td>\n      <td>55,95 €</td>\n      <td>False</td>\n      <td>False</td>\n      <td>False</td>\n      <td>False</td>\n      <td>NaN</td>\n    </tr>\n  </tbody>\n</table>\n</div>"
     },
     "metadata": {},
     "execution_count": 45
    }
   ],
   "source": [
    "url = \"https://www.zalando.fr/api/catalog/articles?categories=promo-chemises-homme&limit=84&offset=0&sort=popularity\"\n",
    "res = urllib.request.urlopen(url)\n",
    "data = json.load(res)\n",
    "data_flat = pd.json_normalize(data)\n",
    "data_flat = pd.json_normalize(data_flat[\"articles\"][0])\n",
    "data_flat.head()"
   ]
  },
  {
   "cell_type": "code",
   "execution_count": 82,
   "metadata": {
    "tags": []
   },
   "outputs": [
    {
     "output_type": "stream",
     "name": "stdout",
     "text": "getting page 1 of 61\ngetting page 2 of 61\ngetting page 3 of 61\ngetting page 4 of 61\ngetting page 5 of 61\ngetting page 6 of 61\ngetting page 7 of 61\ngetting page 8 of 61\ngetting page 9 of 61\ngetting page 10 of 61\ngetting page 11 of 61\ngetting page 12 of 61\ngetting page 13 of 61\ngetting page 14 of 61\ngetting page 15 of 61\ngetting page 16 of 61\ngetting page 17 of 61\ngetting page 18 of 61\ngetting page 19 of 61\ngetting page 20 of 61\ngetting page 21 of 61\ngetting page 22 of 61\ngetting page 23 of 61\ngetting page 24 of 61\ngetting page 25 of 61\ngetting page 26 of 61\ngetting page 27 of 61\ngetting page 28 of 61\ngetting page 29 of 61\ngetting page 30 of 61\ngetting page 31 of 61\ngetting page 32 of 61\ngetting page 33 of 61\ngetting page 34 of 61\ngetting page 35 of 61\ngetting page 36 of 61\ngetting page 37 of 61\ngetting page 38 of 61\ngetting page 39 of 61\ngetting page 40 of 61\ngetting page 41 of 61\ngetting page 42 of 61\ngetting page 43 of 61\ngetting page 44 of 61\ngetting page 45 of 61\ngetting page 46 of 61\ngetting page 47 of 61\ngetting page 48 of 61\ngetting page 49 of 61\ngetting page 50 of 61\ngetting page 51 of 61\ngetting page 52 of 61\ngetting page 53 of 61\ngetting page 54 of 61\ngetting page 55 of 61\ngetting page 56 of 61\ngetting page 57 of 61\ngetting page 58 of 61\ngetting page 59 of 61\ngetting page 60 of 61\ngetting page 61 of 61\n"
    }
   ],
   "source": [
    "# Get the total number of pages\n",
    "total_pages = data['pagination']['page_count']\n",
    "\n",
    "# Your code\n",
    "df = pd.DataFrame()\n",
    "for i in range(total_pages):\n",
    "    k = 84*i\n",
    "    url = f\"https://www.zalando.fr/api/catalog/articles?categories=promo-chemises-homme&limit=84&offset={k}&sort=popularity\"\n",
    "    res = urllib.request.urlopen(url)\n",
    "    data = json.load(res)\n",
    "    data_flat = pd.json_normalize(data)\n",
    "    data_flat = pd.json_normalize(data_flat.articles[0])\n",
    "    data_flat.set_index('sku', inplace=True)\n",
    "    df = df.append(data_flat)\n",
    "    print(f\"getting page {i + 1} of {total_pages}\")"
   ]
  },
  {
   "cell_type": "code",
   "execution_count": 83,
   "metadata": {},
   "outputs": [
    {
     "output_type": "execute_result",
     "data": {
      "text/plain": "                                                            name  \\\nsku                                                                \nTOB22D00R-K12  ORIGINAL STRETCH SLIM FIT - Chemise - lavender...   \nTOB22D00R-K11   ORIGINAL STRETCH SLIM FIT - Chemise - black iris   \nTOB22D00R-A11  ORIGINAL STRETCH SLIM FIT - Chemise - classic ...   \nTOB22D00R-Q11        ORIGINAL STRETCH SLIM FIT - Chemise - black   \nLE222D07E-Q11  BARSTOW WESTERN  - Chemise - marble black deni...   \n\n                                sizes  \\\nsku                                     \nTOB22D00R-K12  [XS, S, M, L, XL, XXL]   \nTOB22D00R-K11  [XS, S, M, L, XL, XXL]   \nTOB22D00R-A11  [XS, S, M, L, XL, XXL]   \nTOB22D00R-Q11  [XS, S, M, L, XL, XXL]   \nLE222D07E-Q11      [S, M, L, XL, XXL]   \n\n                                                         url_key  \\\nsku                                                                \nTOB22D00R-K12  tommy-jeans-original-stretch-slim-fit-chemise-...   \nTOB22D00R-K11  tommy-jeans-original-stretch-slim-fit-chemise-...   \nTOB22D00R-A11  tommy-jeans-original-stretch-slim-fit-chemise-...   \nTOB22D00R-Q11  tommy-jeans-original-stretch-slim-fit-chemise-...   \nLE222D07E-Q11  levisr-barstow-western-standard-chemise-le222d...   \n\n                                                           media   brand_name  \\\nsku                                                                             \nTOB22D00R-K12  [{'path': 'spp-media-p1/a3ed6630e59f3ec8995831...  Tommy Jeans   \nTOB22D00R-K11  [{'path': 'spp-media-p1/ff32f866097d31a3bbf2a0...  Tommy Jeans   \nTOB22D00R-A11  [{'path': 'spp-media-p1/66400673be5c3a23aae85d...  Tommy Jeans   \nTOB22D00R-Q11  [{'path': 'spp-media-p1/64b8ee56495c34a99aab37...  Tommy Jeans   \nLE222D07E-Q11  [{'path': 'spp-media-p1/fe5dc27943553b54ac30db...      Levi's®   \n\n               is_premium family_articles  \\\nsku                                         \nTOB22D00R-K12       False              []   \nTOB22D00R-K11       False              []   \nTOB22D00R-A11       False              []   \nTOB22D00R-Q11       False              []   \nLE222D07E-Q11       False              []   \n\n                                                           flags  \\\nsku                                                                \nTOB22D00R-K12  [{'key': 'discountRate', 'value': '-25%', 'tra...   \nTOB22D00R-K11  [{'key': 'discountRate', 'value': '-30%', 'tra...   \nTOB22D00R-A11  [{'key': 'discountRate', 'value': '-30%', 'tra...   \nTOB22D00R-Q11  [{'key': 'discountRate', 'value': 'Jusqu’à -25...   \nLE222D07E-Q11  [{'key': 'discountRate', 'value': '-30%', 'tra...   \n\n              product_group delivery_promises price.original  \\\nsku                                                            \nTOB22D00R-K12      clothing                []        69,95 €   \nTOB22D00R-K11      clothing                []        69,95 €   \nTOB22D00R-A11      clothing                []        69,95 €   \nTOB22D00R-Q11      clothing                []        69,95 €   \nLE222D07E-Q11      clothing                []        79,95 €   \n\n              price.promotional  price.has_different_prices  \\\nsku                                                           \nTOB22D00R-K12           52,45 €                       False   \nTOB22D00R-K11           48,95 €                       False   \nTOB22D00R-A11           48,95 €                       False   \nTOB22D00R-Q11           52,45 €                        True   \nLE222D07E-Q11           55,95 €                       False   \n\n               price.has_different_original_prices  \\\nsku                                                  \nTOB22D00R-K12                                False   \nTOB22D00R-K11                                False   \nTOB22D00R-A11                                False   \nTOB22D00R-Q11                                False   \nLE222D07E-Q11                                False   \n\n               price.has_different_promotional_prices  \\\nsku                                                     \nTOB22D00R-K12                                   False   \nTOB22D00R-K11                                   False   \nTOB22D00R-A11                                   False   \nTOB22D00R-Q11                                    True   \nLE222D07E-Q11                                   False   \n\n               price.has_discount_on_selected_sizes_only outfits  \nsku                                                               \nTOB22D00R-K12                                      False     NaN  \nTOB22D00R-K11                                      False     NaN  \nTOB22D00R-A11                                      False     NaN  \nTOB22D00R-Q11                                      False     NaN  \nLE222D07E-Q11                                      False     NaN  ",
      "text/html": "<div>\n<style scoped>\n    .dataframe tbody tr th:only-of-type {\n        vertical-align: middle;\n    }\n\n    .dataframe tbody tr th {\n        vertical-align: top;\n    }\n\n    .dataframe thead th {\n        text-align: right;\n    }\n</style>\n<table border=\"1\" class=\"dataframe\">\n  <thead>\n    <tr style=\"text-align: right;\">\n      <th></th>\n      <th>name</th>\n      <th>sizes</th>\n      <th>url_key</th>\n      <th>media</th>\n      <th>brand_name</th>\n      <th>is_premium</th>\n      <th>family_articles</th>\n      <th>flags</th>\n      <th>product_group</th>\n      <th>delivery_promises</th>\n      <th>price.original</th>\n      <th>price.promotional</th>\n      <th>price.has_different_prices</th>\n      <th>price.has_different_original_prices</th>\n      <th>price.has_different_promotional_prices</th>\n      <th>price.has_discount_on_selected_sizes_only</th>\n      <th>outfits</th>\n    </tr>\n    <tr>\n      <th>sku</th>\n      <th></th>\n      <th></th>\n      <th></th>\n      <th></th>\n      <th></th>\n      <th></th>\n      <th></th>\n      <th></th>\n      <th></th>\n      <th></th>\n      <th></th>\n      <th></th>\n      <th></th>\n      <th></th>\n      <th></th>\n      <th></th>\n      <th></th>\n    </tr>\n  </thead>\n  <tbody>\n    <tr>\n      <th>TOB22D00R-K12</th>\n      <td>ORIGINAL STRETCH SLIM FIT - Chemise - lavender...</td>\n      <td>[XS, S, M, L, XL, XXL]</td>\n      <td>tommy-jeans-original-stretch-slim-fit-chemise-...</td>\n      <td>[{'path': 'spp-media-p1/a3ed6630e59f3ec8995831...</td>\n      <td>Tommy Jeans</td>\n      <td>False</td>\n      <td>[]</td>\n      <td>[{'key': 'discountRate', 'value': '-25%', 'tra...</td>\n      <td>clothing</td>\n      <td>[]</td>\n      <td>69,95 €</td>\n      <td>52,45 €</td>\n      <td>False</td>\n      <td>False</td>\n      <td>False</td>\n      <td>False</td>\n      <td>NaN</td>\n    </tr>\n    <tr>\n      <th>TOB22D00R-K11</th>\n      <td>ORIGINAL STRETCH SLIM FIT - Chemise - black iris</td>\n      <td>[XS, S, M, L, XL, XXL]</td>\n      <td>tommy-jeans-original-stretch-slim-fit-chemise-...</td>\n      <td>[{'path': 'spp-media-p1/ff32f866097d31a3bbf2a0...</td>\n      <td>Tommy Jeans</td>\n      <td>False</td>\n      <td>[]</td>\n      <td>[{'key': 'discountRate', 'value': '-30%', 'tra...</td>\n      <td>clothing</td>\n      <td>[]</td>\n      <td>69,95 €</td>\n      <td>48,95 €</td>\n      <td>False</td>\n      <td>False</td>\n      <td>False</td>\n      <td>False</td>\n      <td>NaN</td>\n    </tr>\n    <tr>\n      <th>TOB22D00R-A11</th>\n      <td>ORIGINAL STRETCH SLIM FIT - Chemise - classic ...</td>\n      <td>[XS, S, M, L, XL, XXL]</td>\n      <td>tommy-jeans-original-stretch-slim-fit-chemise-...</td>\n      <td>[{'path': 'spp-media-p1/66400673be5c3a23aae85d...</td>\n      <td>Tommy Jeans</td>\n      <td>False</td>\n      <td>[]</td>\n      <td>[{'key': 'discountRate', 'value': '-30%', 'tra...</td>\n      <td>clothing</td>\n      <td>[]</td>\n      <td>69,95 €</td>\n      <td>48,95 €</td>\n      <td>False</td>\n      <td>False</td>\n      <td>False</td>\n      <td>False</td>\n      <td>NaN</td>\n    </tr>\n    <tr>\n      <th>TOB22D00R-Q11</th>\n      <td>ORIGINAL STRETCH SLIM FIT - Chemise - black</td>\n      <td>[XS, S, M, L, XL, XXL]</td>\n      <td>tommy-jeans-original-stretch-slim-fit-chemise-...</td>\n      <td>[{'path': 'spp-media-p1/64b8ee56495c34a99aab37...</td>\n      <td>Tommy Jeans</td>\n      <td>False</td>\n      <td>[]</td>\n      <td>[{'key': 'discountRate', 'value': 'Jusqu’à -25...</td>\n      <td>clothing</td>\n      <td>[]</td>\n      <td>69,95 €</td>\n      <td>52,45 €</td>\n      <td>True</td>\n      <td>False</td>\n      <td>True</td>\n      <td>False</td>\n      <td>NaN</td>\n    </tr>\n    <tr>\n      <th>LE222D07E-Q11</th>\n      <td>BARSTOW WESTERN  - Chemise - marble black deni...</td>\n      <td>[S, M, L, XL, XXL]</td>\n      <td>levisr-barstow-western-standard-chemise-le222d...</td>\n      <td>[{'path': 'spp-media-p1/fe5dc27943553b54ac30db...</td>\n      <td>Levi's®</td>\n      <td>False</td>\n      <td>[]</td>\n      <td>[{'key': 'discountRate', 'value': '-30%', 'tra...</td>\n      <td>clothing</td>\n      <td>[]</td>\n      <td>79,95 €</td>\n      <td>55,95 €</td>\n      <td>False</td>\n      <td>False</td>\n      <td>False</td>\n      <td>False</td>\n      <td>NaN</td>\n    </tr>\n  </tbody>\n</table>\n</div>"
     },
     "metadata": {},
     "execution_count": 83
    }
   ],
   "source": [
    "df.head()"
   ]
  },
  {
   "cell_type": "markdown",
   "metadata": {},
   "source": [
    "## Bonus\n",
    "\n",
    "Extract the following information from the data:\n",
    "\n",
    "* The trending brand.\n",
    "\n",
    "* The product(s) with the highest discount.\n",
    "\n",
    "* The sum of discounts of all goods (sum_discounted_prices divided by sum_original_prices)."
   ]
  },
  {
   "cell_type": "code",
   "execution_count": 84,
   "metadata": {},
   "outputs": [
    {
     "output_type": "execute_result",
     "data": {
      "text/plain": "'Seidensticker'"
     },
     "metadata": {},
     "execution_count": 84
    }
   ],
   "source": [
    "df[\"brand_name\"].value_counts().index[0]"
   ]
  },
  {
   "cell_type": "code",
   "execution_count": 85,
   "metadata": {},
   "outputs": [],
   "source": [
    "extract_num = lambda series: series.str.extract(r\"(\\d+,\\d{2})\", expand=False).str.replace(\",\", \".\").astype(\"float\")\n",
    "\n",
    "df[\"price.original\"], df[\"price.promotional\"] = extract_num(df[\"price.original\"]), extract_num(df[\"price.promotional\"])"
   ]
  },
  {
   "cell_type": "code",
   "execution_count": 86,
   "metadata": {},
   "outputs": [],
   "source": [
    "df[\"price.discount\"] = df[\"price.original\"] - df[\"price.promotional\"]"
   ]
  },
  {
   "cell_type": "code",
   "execution_count": 88,
   "metadata": {},
   "outputs": [
    {
     "output_type": "execute_result",
     "data": {
      "text/plain": "sku\n31022D003-K11                 BLOUSON - Chemise - midnight\nVEI22D00R-A12                     PRINT  - Chemise - white\nVW922D00Z-Q11        KRALL BOUQUET COUPE - Chemise - black\nVW922D00X-T11    TARAS SHIRT FETZEN - Chemise - multicolor\nVEI22D00R-Q12                     PRINT  - Chemise - black\nName: name, dtype: object"
     },
     "metadata": {},
     "execution_count": 88
    }
   ],
   "source": [
    "df.sort_values(\"price.discount\", ascending=False)[\"name\"].head()"
   ]
  }
 ],
 "metadata": {
  "kernelspec": {
   "display_name": "Python 3",
   "language": "python",
   "name": "python3"
  },
  "language_info": {
   "codemirror_mode": {
    "name": "ipython",
    "version": 3
   },
   "file_extension": ".py",
   "mimetype": "text/x-python",
   "name": "python",
   "nbconvert_exporter": "python",
   "pygments_lexer": "ipython3",
   "version": "3.8.5-final"
  }
 },
 "nbformat": 4,
 "nbformat_minor": 2
}