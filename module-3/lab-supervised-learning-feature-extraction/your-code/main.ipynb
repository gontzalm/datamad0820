{
 "cells": [
  {
   "cell_type": "markdown",
   "metadata": {},
   "source": [
    "# Before your start:\n",
    "- Read the README.md file\n",
    "- Comment as much as you can and use the resources in the README.md file\n",
    "- Happy learning!"
   ]
  },
  {
   "cell_type": "code",
   "execution_count": 1,
   "metadata": {},
   "outputs": [],
   "source": [
    "#Import your libraries\n",
    "\n",
    "import numpy as np\n",
    "import pandas as pd"
   ]
  },
  {
   "cell_type": "markdown",
   "metadata": {},
   "source": [
    "# Introduction\n",
    "\n",
    "In this lab, we will use two datasets. Both datasets contain variables that describe apps from the Google Play Store. We will use our knowledge in feature extraction to process these datasets and prepare them for the use of a ML algorithm."
   ]
  },
  {
   "cell_type": "markdown",
   "metadata": {},
   "source": [
    "# Challenge 1 - Loading and Extracting Features from the First Dataset"
   ]
  },
  {
   "cell_type": "markdown",
   "metadata": {},
   "source": [
    "#### In this challenge, our goals are: \n",
    "\n",
    "* Exploring the dataset.\n",
    "* Identify the columns with missing values.\n",
    "* Either replacing the missing values in each column or drop the columns.\n",
    "* Conver each column to the appropriate type."
   ]
  },
  {
   "cell_type": "markdown",
   "metadata": {},
   "source": [
    "#### The first dataset contains different information describing the apps. \n",
    "\n",
    "Load the dataset into the variable `google_play` in the cell below. The dataset is in the file `googleplaystore.csv`"
   ]
  },
  {
   "cell_type": "code",
   "execution_count": 2,
   "metadata": {},
   "outputs": [],
   "source": [
    "# Your code here:\n",
    "\n",
    "google_play = pd.read_csv('../googleplaystore.csv')"
   ]
  },
  {
   "cell_type": "markdown",
   "metadata": {},
   "source": [
    "#### Examine all variables and their types in the following cell"
   ]
  },
  {
   "cell_type": "code",
   "execution_count": 3,
   "metadata": {
    "tags": []
   },
   "outputs": [
    {
     "output_type": "stream",
     "name": "stdout",
     "text": "&lt;class &#39;pandas.core.frame.DataFrame&#39;&gt;\nRangeIndex: 10841 entries, 0 to 10840\nData columns (total 13 columns):\n #   Column          Non-Null Count  Dtype  \n---  ------          --------------  -----  \n 0   App             10841 non-null  object \n 1   Category        10841 non-null  object \n 2   Rating          9367 non-null   float64\n 3   Reviews         10841 non-null  object \n 4   Size            10841 non-null  object \n 5   Installs        10841 non-null  object \n 6   Type            10840 non-null  object \n 7   Price           10841 non-null  object \n 8   Content Rating  10840 non-null  object \n 9   Genres          10841 non-null  object \n 10  Last Updated    10841 non-null  object \n 11  Current Ver     10833 non-null  object \n 12  Android Ver     10838 non-null  object \ndtypes: float64(1), object(12)\nmemory usage: 1.1+ MB\n"
    }
   ],
   "source": [
    "google_play.info()"
   ]
  },
  {
   "cell_type": "markdown",
   "metadata": {},
   "source": [
    "#### Since this dataset only contains one numeric column, let's skip the `describe()` function and look at the first 5 rows using the `head()` function"
   ]
  },
  {
   "cell_type": "code",
   "execution_count": 4,
   "metadata": {},
   "outputs": [
    {
     "output_type": "execute_result",
     "data": {
      "text/plain": "                                                 App        Category  Rating  \\\n0     Photo Editor &amp; Candy Camera &amp; Grid &amp; ScrapBook  ART_AND_DESIGN     4.1   \n1                                Coloring book moana  ART_AND_DESIGN     3.9   \n2  U Launcher Lite – FREE Live Cool Themes, Hide ...  ART_AND_DESIGN     4.7   \n3                              Sketch - Draw &amp; Paint  ART_AND_DESIGN     4.5   \n4              Pixel Draw - Number Art Coloring Book  ART_AND_DESIGN     4.3   \n\n  Reviews  Size     Installs  Type Price Content Rating  \\\n0     159   19M      10,000+  Free     0       Everyone   \n1     967   14M     500,000+  Free     0       Everyone   \n2   87510  8.7M   5,000,000+  Free     0       Everyone   \n3  215644   25M  50,000,000+  Free     0           Teen   \n4     967  2.8M     100,000+  Free     0       Everyone   \n\n                      Genres      Last Updated         Current Ver  \\\n0               Art &amp; Design   January 7, 2018               1.0.0   \n1  Art &amp; Design;Pretend Play  January 15, 2018               2.0.0   \n2               Art &amp; Design    August 1, 2018               1.2.4   \n3               Art &amp; Design      June 8, 2018  Varies with device   \n4    Art &amp; Design;Creativity     June 20, 2018                 1.1   \n\n    Android Ver  \n0  4.0.3 and up  \n1  4.0.3 and up  \n2  4.0.3 and up  \n3    4.2 and up  \n4    4.4 and up  ",
      "text/html": "<div>\n<style scoped>\n    .dataframe tbody tr th:only-of-type {\n        vertical-align: middle;\n    }\n\n    .dataframe tbody tr th {\n        vertical-align: top;\n    }\n\n    .dataframe thead th {\n        text-align: right;\n    }\n</style>\n<table border=\"1\" class=\"dataframe\">\n  <thead>\n    <tr style=\"text-align: right;\">\n      <th></th>\n      <th>App</th>\n      <th>Category</th>\n      <th>Rating</th>\n      <th>Reviews</th>\n      <th>Size</th>\n      <th>Installs</th>\n      <th>Type</th>\n      <th>Price</th>\n      <th>Content Rating</th>\n      <th>Genres</th>\n      <th>Last Updated</th>\n      <th>Current Ver</th>\n      <th>Android Ver</th>\n    </tr>\n  </thead>\n  <tbody>\n    <tr>\n      <th>0</th>\n      <td>Photo Editor &amp; Candy Camera &amp; Grid &amp; ScrapBook</td>\n      <td>ART_AND_DESIGN</td>\n      <td>4.1</td>\n      <td>159</td>\n      <td>19M</td>\n      <td>10,000+</td>\n      <td>Free</td>\n      <td>0</td>\n      <td>Everyone</td>\n      <td>Art &amp; Design</td>\n      <td>January 7, 2018</td>\n      <td>1.0.0</td>\n      <td>4.0.3 and up</td>\n    </tr>\n    <tr>\n      <th>1</th>\n      <td>Coloring book moana</td>\n      <td>ART_AND_DESIGN</td>\n      <td>3.9</td>\n      <td>967</td>\n      <td>14M</td>\n      <td>500,000+</td>\n      <td>Free</td>\n      <td>0</td>\n      <td>Everyone</td>\n      <td>Art &amp; Design;Pretend Play</td>\n      <td>January 15, 2018</td>\n      <td>2.0.0</td>\n      <td>4.0.3 and up</td>\n    </tr>\n    <tr>\n      <th>2</th>\n      <td>U Launcher Lite – FREE Live Cool Themes, Hide ...</td>\n      <td>ART_AND_DESIGN</td>\n      <td>4.7</td>\n      <td>87510</td>\n      <td>8.7M</td>\n      <td>5,000,000+</td>\n      <td>Free</td>\n      <td>0</td>\n      <td>Everyone</td>\n      <td>Art &amp; Design</td>\n      <td>August 1, 2018</td>\n      <td>1.2.4</td>\n      <td>4.0.3 and up</td>\n    </tr>\n    <tr>\n      <th>3</th>\n      <td>Sketch - Draw &amp; Paint</td>\n      <td>ART_AND_DESIGN</td>\n      <td>4.5</td>\n      <td>215644</td>\n      <td>25M</td>\n      <td>50,000,000+</td>\n      <td>Free</td>\n      <td>0</td>\n      <td>Teen</td>\n      <td>Art &amp; Design</td>\n      <td>June 8, 2018</td>\n      <td>Varies with device</td>\n      <td>4.2 and up</td>\n    </tr>\n    <tr>\n      <th>4</th>\n      <td>Pixel Draw - Number Art Coloring Book</td>\n      <td>ART_AND_DESIGN</td>\n      <td>4.3</td>\n      <td>967</td>\n      <td>2.8M</td>\n      <td>100,000+</td>\n      <td>Free</td>\n      <td>0</td>\n      <td>Everyone</td>\n      <td>Art &amp; Design;Creativity</td>\n      <td>June 20, 2018</td>\n      <td>1.1</td>\n      <td>4.4 and up</td>\n    </tr>\n  </tbody>\n</table>\n</div>"
     },
     "metadata": {},
     "execution_count": 4
    }
   ],
   "source": [
    "google_play.head()"
   ]
  },
  {
   "cell_type": "markdown",
   "metadata": {},
   "source": [
    "#### We can see that there are a few columns that could be coerced to numeric.\n",
    "\n",
    "Start with the reviews column. We can evaluate what value is causing this column to be of object type finding the non-numeric values in this column. To do this, we recall the `to_numeric()` function. With this function, we are able to coerce all non-numeric data to null. We can then use the `isnull()` function to subset our dataframe using the True/False column that this function generates.\n",
    "\n",
    "In the cell below, transform the Reviews column to numeric and assign this new column to the variable `Reviews_numeric`. Make sure to coerce the errors."
   ]
  },
  {
   "cell_type": "code",
   "execution_count": 5,
   "metadata": {},
   "outputs": [],
   "source": [
    "google_play[\"Reviews_numeric\"] = pd.to_numeric(google_play[\"Reviews\"], errors=\"coerce\")"
   ]
  },
  {
   "cell_type": "markdown",
   "metadata": {},
   "source": [
    "Next, create a column containing True/False values using the `isnull()` function. Assign this column to the `Reviews_isnull` variable."
   ]
  },
  {
   "cell_type": "code",
   "execution_count": 6,
   "metadata": {},
   "outputs": [],
   "source": [
    "google_play[\"Reviews_isnull\"] = google_play[\"Reviews_numeric\"].isnull()"
   ]
  },
  {
   "cell_type": "markdown",
   "metadata": {},
   "source": [
    "Finally, subset the `google_play` with `Reviews_isnull`. This should give you all the rows that contain non-numeric characters.\n",
    "\n",
    "Your output should look like:\n",
    "\n",
    "![Reviews_bool.png](reviews-bool.png)"
   ]
  },
  {
   "cell_type": "code",
   "execution_count": 7,
   "metadata": {},
   "outputs": [
    {
     "output_type": "execute_result",
     "data": {
      "text/plain": "                                           App Category  Rating Reviews  \\\n10472  Life Made WI-Fi Touchscreen Photo Frame      1.9    19.0    3.0M   \n\n         Size Installs Type     Price Content Rating             Genres  \\\n10472  1,000+     Free    0  Everyone            NaN  February 11, 2018   \n\n      Last Updated Current Ver Android Ver  Reviews_numeric  Reviews_isnull  \n10472       1.0.19  4.0 and up         NaN              NaN            True  ",
      "text/html": "<div>\n<style scoped>\n    .dataframe tbody tr th:only-of-type {\n        vertical-align: middle;\n    }\n\n    .dataframe tbody tr th {\n        vertical-align: top;\n    }\n\n    .dataframe thead th {\n        text-align: right;\n    }\n</style>\n<table border=\"1\" class=\"dataframe\">\n  <thead>\n    <tr style=\"text-align: right;\">\n      <th></th>\n      <th>App</th>\n      <th>Category</th>\n      <th>Rating</th>\n      <th>Reviews</th>\n      <th>Size</th>\n      <th>Installs</th>\n      <th>Type</th>\n      <th>Price</th>\n      <th>Content Rating</th>\n      <th>Genres</th>\n      <th>Last Updated</th>\n      <th>Current Ver</th>\n      <th>Android Ver</th>\n      <th>Reviews_numeric</th>\n      <th>Reviews_isnull</th>\n    </tr>\n  </thead>\n  <tbody>\n    <tr>\n      <th>10472</th>\n      <td>Life Made WI-Fi Touchscreen Photo Frame</td>\n      <td>1.9</td>\n      <td>19.0</td>\n      <td>3.0M</td>\n      <td>1,000+</td>\n      <td>Free</td>\n      <td>0</td>\n      <td>Everyone</td>\n      <td>NaN</td>\n      <td>February 11, 2018</td>\n      <td>1.0.19</td>\n      <td>4.0 and up</td>\n      <td>NaN</td>\n      <td>NaN</td>\n      <td>True</td>\n    </tr>\n  </tbody>\n</table>\n</div>"
     },
     "metadata": {},
     "execution_count": 7
    }
   ],
   "source": [
    "google_play[google_play[\"Reviews_isnull\"]]"
   ]
  },
  {
   "cell_type": "markdown",
   "metadata": {},
   "source": [
    "#### We see that Google Play is using a shorthand for millions. \n",
    "\n",
    "Let's write a function to transform this data.\n",
    "\n",
    "Steps:\n",
    "\n",
    "1. Create a function that returns the correct numeric values of *Reviews*.\n",
    "1. Define a test string with `M` in the last character.\n",
    "1. Test your function with the test string. Make sure your function works correctly. If not, modify your functions and test again."
   ]
  },
  {
   "cell_type": "code",
   "execution_count": 8,
   "metadata": {},
   "outputs": [
    {
     "output_type": "execute_result",
     "data": {
      "text/plain": "True"
     },
     "metadata": {},
     "execution_count": 8
    }
   ],
   "source": [
    "# Your code here\n",
    "\n",
    "def convert_string_to_numeric(s):\n",
    "    \"\"\"\n",
    "    Convert a string value to numeric. If the last character of the string is `M`, obtain the \n",
    "    numeric part of the string, multiply it with 1,000,000, then return the result. Otherwise, \n",
    "    convert the string to numeric value and return the result.\n",
    "    \n",
    "    Args:\n",
    "        s: The Reviews score in string format.\n",
    "\n",
    "    Returns:\n",
    "        The correct numeric value of the Reviews score.\n",
    "    \"\"\"\n",
    "    if \"M\" in s:\n",
    "        return int(float(s[:-1])*1e6)\n",
    "    else:\n",
    "        return int(s)\n",
    "\n",
    "test_string = '4.0M'\n",
    "\n",
    "convert_string_to_numeric(test_string) == 4000000"
   ]
  },
  {
   "cell_type": "markdown",
   "metadata": {},
   "source": [
    "The last step is to apply the function to the `Reviews` column in the following cell:"
   ]
  },
  {
   "cell_type": "code",
   "execution_count": 9,
   "metadata": {},
   "outputs": [],
   "source": [
    "google_play[\"Reviews\"] = google_play[\"Reviews\"].transform(convert_string_to_numeric)"
   ]
  },
  {
   "cell_type": "markdown",
   "metadata": {},
   "source": [
    "Check the non-numeric `Reviews` row again. It should have been fixed now and you should see:\n",
    "\n",
    "![Reviews_bool_fixed.png](reviews-bool-fixed.png)"
   ]
  },
  {
   "cell_type": "code",
   "execution_count": 10,
   "metadata": {},
   "outputs": [
    {
     "output_type": "execute_result",
     "data": {
      "text/plain": "                                           App Category  Rating  Reviews  \\\n10472  Life Made WI-Fi Touchscreen Photo Frame      1.9    19.0  3000000   \n\n         Size Installs Type     Price Content Rating             Genres  \\\n10472  1,000+     Free    0  Everyone            NaN  February 11, 2018   \n\n      Last Updated Current Ver Android Ver  Reviews_numeric  Reviews_isnull  \n10472       1.0.19  4.0 and up         NaN              NaN            True  ",
      "text/html": "<div>\n<style scoped>\n    .dataframe tbody tr th:only-of-type {\n        vertical-align: middle;\n    }\n\n    .dataframe tbody tr th {\n        vertical-align: top;\n    }\n\n    .dataframe thead th {\n        text-align: right;\n    }\n</style>\n<table border=\"1\" class=\"dataframe\">\n  <thead>\n    <tr style=\"text-align: right;\">\n      <th></th>\n      <th>App</th>\n      <th>Category</th>\n      <th>Rating</th>\n      <th>Reviews</th>\n      <th>Size</th>\n      <th>Installs</th>\n      <th>Type</th>\n      <th>Price</th>\n      <th>Content Rating</th>\n      <th>Genres</th>\n      <th>Last Updated</th>\n      <th>Current Ver</th>\n      <th>Android Ver</th>\n      <th>Reviews_numeric</th>\n      <th>Reviews_isnull</th>\n    </tr>\n  </thead>\n  <tbody>\n    <tr>\n      <th>10472</th>\n      <td>Life Made WI-Fi Touchscreen Photo Frame</td>\n      <td>1.9</td>\n      <td>19.0</td>\n      <td>3000000</td>\n      <td>1,000+</td>\n      <td>Free</td>\n      <td>0</td>\n      <td>Everyone</td>\n      <td>NaN</td>\n      <td>February 11, 2018</td>\n      <td>1.0.19</td>\n      <td>4.0 and up</td>\n      <td>NaN</td>\n      <td>NaN</td>\n      <td>True</td>\n    </tr>\n  </tbody>\n</table>\n</div>"
     },
     "metadata": {},
     "execution_count": 10
    }
   ],
   "source": [
    "google_play[google_play[\"Reviews_isnull\"]]"
   ]
  },
  {
   "cell_type": "markdown",
   "metadata": {},
   "source": [
    "Also check the variable types of `google_play`. The `Reviews` column should be a `float64` type now."
   ]
  },
  {
   "cell_type": "code",
   "execution_count": 11,
   "metadata": {
    "tags": []
   },
   "outputs": [
    {
     "output_type": "stream",
     "name": "stdout",
     "text": "App                 object\nCategory            object\nRating             float64\nReviews              int64\nSize                object\nInstalls            object\nType                object\nPrice               object\nContent Rating      object\nGenres              object\nLast Updated        object\nCurrent Ver         object\nAndroid Ver         object\nReviews_numeric    float64\nReviews_isnull        bool\ndtype: object\n"
    }
   ],
   "source": [
    "print(google_play.dtypes)"
   ]
  },
  {
   "cell_type": "markdown",
   "metadata": {},
   "source": [
    "#### The next column we will look at is `Size`. We start by looking at all unique values in `Size`:\n",
    "\n",
    "*Hint: use `unique()` ([documentation](https://pandas.pydata.org/pandas-docs/stable/generated/pandas.Series.unique.html))*."
   ]
  },
  {
   "cell_type": "code",
   "execution_count": 12,
   "metadata": {},
   "outputs": [
    {
     "output_type": "execute_result",
     "data": {
      "text/plain": "array([&#39;19M&#39;, &#39;14M&#39;, &#39;8.7M&#39;, &#39;25M&#39;, &#39;2.8M&#39;, &#39;5.6M&#39;, &#39;29M&#39;, &#39;33M&#39;, &#39;3.1M&#39;,\n       &#39;28M&#39;, &#39;12M&#39;, &#39;20M&#39;, &#39;21M&#39;, &#39;37M&#39;, &#39;2.7M&#39;, &#39;5.5M&#39;, &#39;17M&#39;, &#39;39M&#39;,\n       &#39;31M&#39;, &#39;4.2M&#39;, &#39;7.0M&#39;, &#39;23M&#39;, &#39;6.0M&#39;, &#39;6.1M&#39;, &#39;4.6M&#39;, &#39;9.2M&#39;,\n       &#39;5.2M&#39;, &#39;11M&#39;, &#39;24M&#39;, &#39;Varies with device&#39;, &#39;9.4M&#39;, &#39;15M&#39;, &#39;10M&#39;,\n       &#39;1.2M&#39;, &#39;26M&#39;, &#39;8.0M&#39;, &#39;7.9M&#39;, &#39;56M&#39;, &#39;57M&#39;, &#39;35M&#39;, &#39;54M&#39;, &#39;201k&#39;,\n       &#39;3.6M&#39;, &#39;5.7M&#39;, &#39;8.6M&#39;, &#39;2.4M&#39;, &#39;27M&#39;, &#39;2.5M&#39;, &#39;16M&#39;, &#39;3.4M&#39;,\n       &#39;8.9M&#39;, &#39;3.9M&#39;, &#39;2.9M&#39;, &#39;38M&#39;, &#39;32M&#39;, &#39;5.4M&#39;, &#39;18M&#39;, &#39;1.1M&#39;,\n       &#39;2.2M&#39;, &#39;4.5M&#39;, &#39;9.8M&#39;, &#39;52M&#39;, &#39;9.0M&#39;, &#39;6.7M&#39;, &#39;30M&#39;, &#39;2.6M&#39;,\n       &#39;7.1M&#39;, &#39;3.7M&#39;, &#39;22M&#39;, &#39;7.4M&#39;, &#39;6.4M&#39;, &#39;3.2M&#39;, &#39;8.2M&#39;, &#39;9.9M&#39;,\n       &#39;4.9M&#39;, &#39;9.5M&#39;, &#39;5.0M&#39;, &#39;5.9M&#39;, &#39;13M&#39;, &#39;73M&#39;, &#39;6.8M&#39;, &#39;3.5M&#39;,\n       &#39;4.0M&#39;, &#39;2.3M&#39;, &#39;7.2M&#39;, &#39;2.1M&#39;, &#39;42M&#39;, &#39;7.3M&#39;, &#39;9.1M&#39;, &#39;55M&#39;,\n       &#39;23k&#39;, &#39;6.5M&#39;, &#39;1.5M&#39;, &#39;7.5M&#39;, &#39;51M&#39;, &#39;41M&#39;, &#39;48M&#39;, &#39;8.5M&#39;, &#39;46M&#39;,\n       &#39;8.3M&#39;, &#39;4.3M&#39;, &#39;4.7M&#39;, &#39;3.3M&#39;, &#39;40M&#39;, &#39;7.8M&#39;, &#39;8.8M&#39;, &#39;6.6M&#39;,\n       &#39;5.1M&#39;, &#39;61M&#39;, &#39;66M&#39;, &#39;79k&#39;, &#39;8.4M&#39;, &#39;118k&#39;, &#39;44M&#39;, &#39;695k&#39;, &#39;1.6M&#39;,\n       &#39;6.2M&#39;, &#39;18k&#39;, &#39;53M&#39;, &#39;1.4M&#39;, &#39;3.0M&#39;, &#39;5.8M&#39;, &#39;3.8M&#39;, &#39;9.6M&#39;,\n       &#39;45M&#39;, &#39;63M&#39;, &#39;49M&#39;, &#39;77M&#39;, &#39;4.4M&#39;, &#39;4.8M&#39;, &#39;70M&#39;, &#39;6.9M&#39;, &#39;9.3M&#39;,\n       &#39;10.0M&#39;, &#39;8.1M&#39;, &#39;36M&#39;, &#39;84M&#39;, &#39;97M&#39;, &#39;2.0M&#39;, &#39;1.9M&#39;, &#39;1.8M&#39;,\n       &#39;5.3M&#39;, &#39;47M&#39;, &#39;556k&#39;, &#39;526k&#39;, &#39;76M&#39;, &#39;7.6M&#39;, &#39;59M&#39;, &#39;9.7M&#39;, &#39;78M&#39;,\n       &#39;72M&#39;, &#39;43M&#39;, &#39;7.7M&#39;, &#39;6.3M&#39;, &#39;334k&#39;, &#39;34M&#39;, &#39;93M&#39;, &#39;65M&#39;, &#39;79M&#39;,\n       &#39;100M&#39;, &#39;58M&#39;, &#39;50M&#39;, &#39;68M&#39;, &#39;64M&#39;, &#39;67M&#39;, &#39;60M&#39;, &#39;94M&#39;, &#39;232k&#39;,\n       &#39;99M&#39;, &#39;624k&#39;, &#39;95M&#39;, &#39;8.5k&#39;, &#39;41k&#39;, &#39;292k&#39;, &#39;11k&#39;, &#39;80M&#39;, &#39;1.7M&#39;,\n       &#39;74M&#39;, &#39;62M&#39;, &#39;69M&#39;, &#39;75M&#39;, &#39;98M&#39;, &#39;85M&#39;, &#39;82M&#39;, &#39;96M&#39;, &#39;87M&#39;,\n       &#39;71M&#39;, &#39;86M&#39;, &#39;91M&#39;, &#39;81M&#39;, &#39;92M&#39;, &#39;83M&#39;, &#39;88M&#39;, &#39;704k&#39;, &#39;862k&#39;,\n       &#39;899k&#39;, &#39;378k&#39;, &#39;266k&#39;, &#39;375k&#39;, &#39;1.3M&#39;, &#39;975k&#39;, &#39;980k&#39;, &#39;4.1M&#39;,\n       &#39;89M&#39;, &#39;696k&#39;, &#39;544k&#39;, &#39;525k&#39;, &#39;920k&#39;, &#39;779k&#39;, &#39;853k&#39;, &#39;720k&#39;,\n       &#39;713k&#39;, &#39;772k&#39;, &#39;318k&#39;, &#39;58k&#39;, &#39;241k&#39;, &#39;196k&#39;, &#39;857k&#39;, &#39;51k&#39;,\n       &#39;953k&#39;, &#39;865k&#39;, &#39;251k&#39;, &#39;930k&#39;, &#39;540k&#39;, &#39;313k&#39;, &#39;746k&#39;, &#39;203k&#39;,\n       &#39;26k&#39;, &#39;314k&#39;, &#39;239k&#39;, &#39;371k&#39;, &#39;220k&#39;, &#39;730k&#39;, &#39;756k&#39;, &#39;91k&#39;,\n       &#39;293k&#39;, &#39;17k&#39;, &#39;74k&#39;, &#39;14k&#39;, &#39;317k&#39;, &#39;78k&#39;, &#39;924k&#39;, &#39;902k&#39;, &#39;818k&#39;,\n       &#39;81k&#39;, &#39;939k&#39;, &#39;169k&#39;, &#39;45k&#39;, &#39;475k&#39;, &#39;965k&#39;, &#39;90M&#39;, &#39;545k&#39;, &#39;61k&#39;,\n       &#39;283k&#39;, &#39;655k&#39;, &#39;714k&#39;, &#39;93k&#39;, &#39;872k&#39;, &#39;121k&#39;, &#39;322k&#39;, &#39;1.0M&#39;,\n       &#39;976k&#39;, &#39;172k&#39;, &#39;238k&#39;, &#39;549k&#39;, &#39;206k&#39;, &#39;954k&#39;, &#39;444k&#39;, &#39;717k&#39;,\n       &#39;210k&#39;, &#39;609k&#39;, &#39;308k&#39;, &#39;705k&#39;, &#39;306k&#39;, &#39;904k&#39;, &#39;473k&#39;, &#39;175k&#39;,\n       &#39;350k&#39;, &#39;383k&#39;, &#39;454k&#39;, &#39;421k&#39;, &#39;70k&#39;, &#39;812k&#39;, &#39;442k&#39;, &#39;842k&#39;,\n       &#39;417k&#39;, &#39;412k&#39;, &#39;459k&#39;, &#39;478k&#39;, &#39;335k&#39;, &#39;782k&#39;, &#39;721k&#39;, &#39;430k&#39;,\n       &#39;429k&#39;, &#39;192k&#39;, &#39;200k&#39;, &#39;460k&#39;, &#39;728k&#39;, &#39;496k&#39;, &#39;816k&#39;, &#39;414k&#39;,\n       &#39;506k&#39;, &#39;887k&#39;, &#39;613k&#39;, &#39;243k&#39;, &#39;569k&#39;, &#39;778k&#39;, &#39;683k&#39;, &#39;592k&#39;,\n       &#39;319k&#39;, &#39;186k&#39;, &#39;840k&#39;, &#39;647k&#39;, &#39;191k&#39;, &#39;373k&#39;, &#39;437k&#39;, &#39;598k&#39;,\n       &#39;716k&#39;, &#39;585k&#39;, &#39;982k&#39;, &#39;222k&#39;, &#39;219k&#39;, &#39;55k&#39;, &#39;948k&#39;, &#39;323k&#39;,\n       &#39;691k&#39;, &#39;511k&#39;, &#39;951k&#39;, &#39;963k&#39;, &#39;25k&#39;, &#39;554k&#39;, &#39;351k&#39;, &#39;27k&#39;,\n       &#39;82k&#39;, &#39;208k&#39;, &#39;913k&#39;, &#39;514k&#39;, &#39;551k&#39;, &#39;29k&#39;, &#39;103k&#39;, &#39;898k&#39;,\n       &#39;743k&#39;, &#39;116k&#39;, &#39;153k&#39;, &#39;209k&#39;, &#39;353k&#39;, &#39;499k&#39;, &#39;173k&#39;, &#39;597k&#39;,\n       &#39;809k&#39;, &#39;122k&#39;, &#39;411k&#39;, &#39;400k&#39;, &#39;801k&#39;, &#39;787k&#39;, &#39;237k&#39;, &#39;50k&#39;,\n       &#39;643k&#39;, &#39;986k&#39;, &#39;97k&#39;, &#39;516k&#39;, &#39;837k&#39;, &#39;780k&#39;, &#39;961k&#39;, &#39;269k&#39;,\n       &#39;20k&#39;, &#39;498k&#39;, &#39;600k&#39;, &#39;749k&#39;, &#39;642k&#39;, &#39;881k&#39;, &#39;72k&#39;, &#39;656k&#39;,\n       &#39;601k&#39;, &#39;221k&#39;, &#39;228k&#39;, &#39;108k&#39;, &#39;940k&#39;, &#39;176k&#39;, &#39;33k&#39;, &#39;663k&#39;,\n       &#39;34k&#39;, &#39;942k&#39;, &#39;259k&#39;, &#39;164k&#39;, &#39;458k&#39;, &#39;245k&#39;, &#39;629k&#39;, &#39;28k&#39;,\n       &#39;288k&#39;, &#39;775k&#39;, &#39;785k&#39;, &#39;636k&#39;, &#39;916k&#39;, &#39;994k&#39;, &#39;309k&#39;, &#39;485k&#39;,\n       &#39;914k&#39;, &#39;903k&#39;, &#39;608k&#39;, &#39;500k&#39;, &#39;54k&#39;, &#39;562k&#39;, &#39;847k&#39;, &#39;957k&#39;,\n       &#39;688k&#39;, &#39;811k&#39;, &#39;270k&#39;, &#39;48k&#39;, &#39;329k&#39;, &#39;523k&#39;, &#39;921k&#39;, &#39;874k&#39;,\n       &#39;981k&#39;, &#39;784k&#39;, &#39;280k&#39;, &#39;24k&#39;, &#39;518k&#39;, &#39;754k&#39;, &#39;892k&#39;, &#39;154k&#39;,\n       &#39;860k&#39;, &#39;364k&#39;, &#39;387k&#39;, &#39;626k&#39;, &#39;161k&#39;, &#39;879k&#39;, &#39;39k&#39;, &#39;970k&#39;,\n       &#39;170k&#39;, &#39;141k&#39;, &#39;160k&#39;, &#39;144k&#39;, &#39;143k&#39;, &#39;190k&#39;, &#39;376k&#39;, &#39;193k&#39;,\n       &#39;246k&#39;, &#39;73k&#39;, &#39;658k&#39;, &#39;992k&#39;, &#39;253k&#39;, &#39;420k&#39;, &#39;404k&#39;, &#39;1,000+&#39;,\n       &#39;470k&#39;, &#39;226k&#39;, &#39;240k&#39;, &#39;89k&#39;, &#39;234k&#39;, &#39;257k&#39;, &#39;861k&#39;, &#39;467k&#39;,\n       &#39;157k&#39;, &#39;44k&#39;, &#39;676k&#39;, &#39;67k&#39;, &#39;552k&#39;, &#39;885k&#39;, &#39;1020k&#39;, &#39;582k&#39;,\n       &#39;619k&#39;], dtype=object)"
     },
     "metadata": {},
     "execution_count": 12
    }
   ],
   "source": [
    "google_play[\"Size\"].unique()"
   ]
  },
  {
   "cell_type": "markdown",
   "metadata": {},
   "source": [
    "You should have seen lots of unique values of the app sizes.\n",
    "\n",
    "#### While we can convert most of the `Size` values to numeric in the same way we converted the `Reviews` values, there is one value that is impossible to convert.\n",
    "\n",
    "What is that badass value? Enter it in the next cell and calculate the proportion of its occurence to the total number of records of `google_play`."
   ]
  },
  {
   "cell_type": "code",
   "execution_count": 13,
   "metadata": {},
   "outputs": [
    {
     "output_type": "execute_result",
     "data": {
      "text/plain": "0.15635089013928605"
     },
     "metadata": {},
     "execution_count": 13
    }
   ],
   "source": [
    "(google_play[\"Size\"] == \"Varies with device\").sum()/google_play.shape[0]"
   ]
  },
  {
   "cell_type": "markdown",
   "metadata": {},
   "source": [
    "#### While this column may be useful for other types of analysis, we opt to drop it from our dataset. \n",
    "\n",
    "There are two reasons. First, the majority of the data are ordinal but a sizeable proportion are missing because we cannot convert them to numerical values. Ordinal data are both numerical and categorical, and they usually can be ranked (e.g. 82k is smaller than 91M). In contrast, non-ordinal categorical data such as blood type and eye color cannot be ranked. The second reason is as a categorical column, it has too many unique values to produce meaningful insights. Therefore, in our case the simplest strategy would be to drop the column.\n",
    "\n",
    "Drop the column in the cell below (use `inplace=True`)"
   ]
  },
  {
   "cell_type": "code",
   "execution_count": 14,
   "metadata": {},
   "outputs": [],
   "source": [
    "google_play.drop(columns=\"Size\", inplace=True)"
   ]
  },
  {
   "cell_type": "markdown",
   "metadata": {},
   "source": [
    "#### Now let's look at how many missing values are in each column. \n",
    "\n",
    "This will give us an idea of whether we should come up with a missing data strategy or give up on the column all together. In the next column, find the number of missing values in each column: \n",
    "\n",
    "*Hint: use the `isna()` and `sum()` functions.*"
   ]
  },
  {
   "cell_type": "code",
   "execution_count": 15,
   "metadata": {},
   "outputs": [
    {
     "output_type": "execute_result",
     "data": {
      "text/plain": "App                   0\nCategory              0\nRating             1474\nReviews               0\nInstalls              0\nType                  1\nPrice                 0\nContent Rating        1\nGenres                0\nLast Updated          0\nCurrent Ver           8\nAndroid Ver           3\nReviews_numeric       1\nReviews_isnull        0\ndtype: int64"
     },
     "metadata": {},
     "execution_count": 15
    }
   ],
   "source": [
    "google_play.isnull().sum()"
   ]
  },
  {
   "cell_type": "markdown",
   "metadata": {},
   "source": [
    "You should find the column with the most missing values is now `Rating`.\n",
    "\n",
    "#### What is the proportion of the missing values in `Rating` to the total number of records?\n",
    "\n",
    "Enter your answer in the cell below."
   ]
  },
  {
   "cell_type": "code",
   "execution_count": 16,
   "metadata": {},
   "outputs": [
    {
     "output_type": "execute_result",
     "data": {
      "text/plain": "0.13596531685268887"
     },
     "metadata": {},
     "execution_count": 16
    }
   ],
   "source": [
    "google_play[\"Rating\"].isnull().sum()/google_play.shape[0]"
   ]
  },
  {
   "cell_type": "markdown",
   "metadata": {},
   "source": [
    "A sizeable proportion of the `Rating` column is missing. A few other columns also contain several missing values.\n",
    "\n",
    "#### We opt to preserve these columns and remove the rows containing missing data.\n",
    "\n",
    "In particular, we don't want to drop the `Rating` column because:\n",
    "\n",
    "* It is one of the most important columns in our dataset. \n",
    "\n",
    "* Since the dataset is not a time series, the loss of these rows will not have a negative impact on our ability to analyze the data. It will, however, cause us to lose some meaningful observations. But the loss is limited compared to the gain we receive by preserving these columns.\n",
    "\n",
    "In the cell below, remove all rows containing at least one missing value. Use the `dropna()` function ([documentation](https://pandas.pydata.org/pandas-docs/stable/generated/pandas.DataFrame.dropna.html)). Assign the new dataframe to the variable `google_missing_removed`."
   ]
  },
  {
   "cell_type": "code",
   "execution_count": 17,
   "metadata": {},
   "outputs": [],
   "source": [
    "google_missing_removed = google_play.dropna()"
   ]
  },
  {
   "cell_type": "markdown",
   "metadata": {},
   "source": [
    "From now on, we use the `google_missing_removed` variable instead of `google_play`.\n",
    "\n",
    "#### Next, we look at the `Last Updated` column.\n",
    "\n",
    "The `Last Updated` column seems to contain a date, though it is classified as an object type. Let's convert this column using the `pd.to_datetime` function ([documentation](https://pandas.pydata.org/pandas-docs/stable/generated/pandas.to_datetime.html))."
   ]
  },
  {
   "cell_type": "code",
   "execution_count": 18,
   "metadata": {},
   "outputs": [],
   "source": [
    "google_missing_removed[\"Last Updated\"] = pd.to_datetime(google_missing_removed[\"Last Updated\"])"
   ]
  },
  {
   "cell_type": "markdown",
   "metadata": {},
   "source": [
    "#### The last column we will transform is `Price`. \n",
    "\n",
    "We start by looking at the unique values of this column."
   ]
  },
  {
   "cell_type": "code",
   "execution_count": 19,
   "metadata": {},
   "outputs": [
    {
     "output_type": "execute_result",
     "data": {
      "text/plain": "array([&#39;0&#39;, &#39;$4.99&#39;, &#39;$3.99&#39;, &#39;$6.99&#39;, &#39;$7.99&#39;, &#39;$5.99&#39;, &#39;$2.99&#39;, &#39;$3.49&#39;,\n       &#39;$1.99&#39;, &#39;$9.99&#39;, &#39;$7.49&#39;, &#39;$0.99&#39;, &#39;$9.00&#39;, &#39;$5.49&#39;, &#39;$10.00&#39;,\n       &#39;$24.99&#39;, &#39;$11.99&#39;, &#39;$79.99&#39;, &#39;$16.99&#39;, &#39;$14.99&#39;, &#39;$29.99&#39;,\n       &#39;$12.99&#39;, &#39;$2.49&#39;, &#39;$10.99&#39;, &#39;$1.50&#39;, &#39;$19.99&#39;, &#39;$15.99&#39;, &#39;$33.99&#39;,\n       &#39;$39.99&#39;, &#39;$3.95&#39;, &#39;$4.49&#39;, &#39;$1.70&#39;, &#39;$8.99&#39;, &#39;$1.49&#39;, &#39;$3.88&#39;,\n       &#39;$399.99&#39;, &#39;$17.99&#39;, &#39;$400.00&#39;, &#39;$3.02&#39;, &#39;$1.76&#39;, &#39;$4.84&#39;, &#39;$4.77&#39;,\n       &#39;$1.61&#39;, &#39;$2.50&#39;, &#39;$1.59&#39;, &#39;$6.49&#39;, &#39;$1.29&#39;, &#39;$299.99&#39;, &#39;$379.99&#39;,\n       &#39;$37.99&#39;, &#39;$18.99&#39;, &#39;$389.99&#39;, &#39;$8.49&#39;, &#39;$1.75&#39;, &#39;$14.00&#39;, &#39;$2.00&#39;,\n       &#39;$3.08&#39;, &#39;$2.59&#39;, &#39;$19.40&#39;, &#39;$3.90&#39;, &#39;$4.59&#39;, &#39;$15.46&#39;, &#39;$3.04&#39;,\n       &#39;$13.99&#39;, &#39;$4.29&#39;, &#39;$3.28&#39;, &#39;$4.60&#39;, &#39;$1.00&#39;, &#39;$2.95&#39;, &#39;$2.90&#39;,\n       &#39;$1.97&#39;, &#39;$2.56&#39;, &#39;$1.20&#39;], dtype=object)"
     },
     "metadata": {},
     "execution_count": 19
    }
   ],
   "source": [
    "google_missing_removed[\"Price\"].unique()"
   ]
  },
  {
   "cell_type": "markdown",
   "metadata": {},
   "source": [
    "Since all prices are ordinal data without exceptions, we can tranform this column by removing the dollar sign and converting to numeric. We can create a new column called `Price Numerical` and drop the original column.\n",
    "\n",
    "We will achieve our goal in three steps. Follow the instructions of each step below.\n",
    "\n",
    "#### First we remove the dollar sign. Do this in the next cell by applying the `str.replace` function to the column to replace `$` with an empty string (`''`)."
   ]
  },
  {
   "cell_type": "code",
   "execution_count": 20,
   "metadata": {},
   "outputs": [],
   "source": [
    "google_missing_removed[\"Price Numerical\"] = google_missing_removed[\"Price\"].str.replace(\"$\", \"\")"
   ]
  },
  {
   "cell_type": "markdown",
   "metadata": {},
   "source": [
    "#### Second step, coerce the `Price Numerical` column to numeric."
   ]
  },
  {
   "cell_type": "code",
   "execution_count": 21,
   "metadata": {},
   "outputs": [],
   "source": [
    "google_missing_removed[\"Price Numerical\"] = pd.to_numeric(google_missing_removed[\"Price Numerical\"])"
   ]
  },
  {
   "cell_type": "markdown",
   "metadata": {},
   "source": [
    "**Finally, drop the original `Price` column.**"
   ]
  },
  {
   "cell_type": "code",
   "execution_count": 22,
   "metadata": {},
   "outputs": [],
   "source": [
    "google_missing_removed.drop(columns=\"Price\", inplace=True)"
   ]
  },
  {
   "cell_type": "markdown",
   "metadata": {},
   "source": [
    "Now check the variable types of `google_missing_removed`. Make sure:\n",
    "\n",
    "* `Size` and `Price` columns have been removed.\n",
    "* `Rating`, `Reviews`, and `Price Numerical` have the type of `float64`.\n",
    "* `Last Updated` has the type of `datetime64`."
   ]
  },
  {
   "cell_type": "code",
   "execution_count": 23,
   "metadata": {
    "tags": []
   },
   "outputs": [
    {
     "output_type": "stream",
     "name": "stdout",
     "text": "App                        object\nCategory                   object\nRating                    float64\nReviews                     int64\nInstalls                   object\nType                       object\nContent Rating             object\nGenres                     object\nLast Updated       datetime64[ns]\nCurrent Ver                object\nAndroid Ver                object\nReviews_numeric           float64\nReviews_isnull               bool\nPrice Numerical           float64\ndtype: object\n"
    }
   ],
   "source": [
    "print(google_missing_removed.dtypes)"
   ]
  },
  {
   "cell_type": "markdown",
   "metadata": {},
   "source": [
    "# Challenge 2 - Loading and Extracting Features from the Second Dataset"
   ]
  },
  {
   "cell_type": "markdown",
   "metadata": {},
   "source": [
    "Load the second dataset to the variable `google_reviews`. The data is in the file `googleplaystore_user_reviews.csv`."
   ]
  },
  {
   "cell_type": "code",
   "execution_count": 24,
   "metadata": {},
   "outputs": [],
   "source": [
    "# Your code here:\n",
    "\n",
    "google_reviews = pd.read_csv('../googleplaystore_user_reviews.csv')"
   ]
  },
  {
   "cell_type": "markdown",
   "metadata": {},
   "source": [
    "#### This dataset contains the top 100 reviews for each app. \n",
    "\n",
    "Let's examine this dataset using the `head` function"
   ]
  },
  {
   "cell_type": "code",
   "execution_count": 25,
   "metadata": {},
   "outputs": [
    {
     "output_type": "execute_result",
     "data": {
      "text/plain": "                     App                                  Translated_Review  \\\n0  10 Best Foods for You  I like eat delicious food. That&#39;s I&#39;m cooking ...   \n1  10 Best Foods for You    This help eating healthy exercise regular basis   \n2  10 Best Foods for You                                                NaN   \n3  10 Best Foods for You         Works great especially going grocery store   \n4  10 Best Foods for You                                       Best idea us   \n\n  Sentiment  Sentiment_Polarity  Sentiment_Subjectivity  \n0  Positive                1.00                0.533333  \n1  Positive                0.25                0.288462  \n2       NaN                 NaN                     NaN  \n3  Positive                0.40                0.875000  \n4  Positive                1.00                0.300000  ",
      "text/html": "<div>\n<style scoped>\n    .dataframe tbody tr th:only-of-type {\n        vertical-align: middle;\n    }\n\n    .dataframe tbody tr th {\n        vertical-align: top;\n    }\n\n    .dataframe thead th {\n        text-align: right;\n    }\n</style>\n<table border=\"1\" class=\"dataframe\">\n  <thead>\n    <tr style=\"text-align: right;\">\n      <th></th>\n      <th>App</th>\n      <th>Translated_Review</th>\n      <th>Sentiment</th>\n      <th>Sentiment_Polarity</th>\n      <th>Sentiment_Subjectivity</th>\n    </tr>\n  </thead>\n  <tbody>\n    <tr>\n      <th>0</th>\n      <td>10 Best Foods for You</td>\n      <td>I like eat delicious food. That's I'm cooking ...</td>\n      <td>Positive</td>\n      <td>1.00</td>\n      <td>0.533333</td>\n    </tr>\n    <tr>\n      <th>1</th>\n      <td>10 Best Foods for You</td>\n      <td>This help eating healthy exercise regular basis</td>\n      <td>Positive</td>\n      <td>0.25</td>\n      <td>0.288462</td>\n    </tr>\n    <tr>\n      <th>2</th>\n      <td>10 Best Foods for You</td>\n      <td>NaN</td>\n      <td>NaN</td>\n      <td>NaN</td>\n      <td>NaN</td>\n    </tr>\n    <tr>\n      <th>3</th>\n      <td>10 Best Foods for You</td>\n      <td>Works great especially going grocery store</td>\n      <td>Positive</td>\n      <td>0.40</td>\n      <td>0.875000</td>\n    </tr>\n    <tr>\n      <th>4</th>\n      <td>10 Best Foods for You</td>\n      <td>Best idea us</td>\n      <td>Positive</td>\n      <td>1.00</td>\n      <td>0.300000</td>\n    </tr>\n  </tbody>\n</table>\n</div>"
     },
     "metadata": {},
     "execution_count": 25
    }
   ],
   "source": [
    "google_reviews.head()"
   ]
  },
  {
   "cell_type": "markdown",
   "metadata": {},
   "source": [
    "#### The main piece of information we would like to extract from this dataset is the proportion of positive reviews of each app. \n",
    "\n",
    "Columns like `Sentiment_Polarity` and `Sentiment_Subjectivity` are not to our interests because we have no clue how to use them. We do not care about `Translated_Review` because natural language processing is too complex for us at present (in fact the `Sentiment`, `Sentiment_Polarity`, and `Sentiment_Subjectivity` columns are derived from `Translated_Review` the data scientists). \n",
    "\n",
    "What we care about in this challenge is `Sentiment`. To be more precise, we care about **what is the proportion of *Positive* sentiment of each app**. This will require us to aggregate the `Sentiment` data by `App` in order to calculate the proportions.\n",
    "\n",
    "Now that you are clear about what we are trying to achieve, follow the steps below that will walk you through towards our goal."
   ]
  },
  {
   "cell_type": "markdown",
   "metadata": {},
   "source": [
    "#### Our first step will be to remove all rows with missing sentiment. \n",
    "\n",
    "In the next cell, drop all rows with missing data using the `dropna()` function and assign this new dataframe to `review_missing_removed`."
   ]
  },
  {
   "cell_type": "code",
   "execution_count": 26,
   "metadata": {},
   "outputs": [],
   "source": [
    "reviews_missing_removed = google_reviews.dropna(subset=[\"Sentiment\"])"
   ]
  },
  {
   "cell_type": "markdown",
   "metadata": {},
   "source": [
    "#### Now, use the `value_counts()` function ([documentation](https://pandas.pydata.org/pandas-docs/stable/generated/pandas.Series.value_counts.html)) to get a sense on how many apps are in this dataset and their review counts."
   ]
  },
  {
   "cell_type": "code",
   "execution_count": 27,
   "metadata": {},
   "outputs": [
    {
     "output_type": "execute_result",
     "data": {
      "text/plain": "Bowmasters                        312\nAngry Birds Classic               273\nHelix Jump                        273\nCalorie Counter - MyFitnessPal    255\nDuolingo: Learn Languages Free    240\n                                 ... \nGoogle Trips - Travel Planner       1\nApartment Decorating Ideas          1\nDraw In                             1\nHD Camera                           1\nDiscover Mobile                     1\nName: App, Length: 865, dtype: int64"
     },
     "metadata": {},
     "execution_count": 27
    }
   ],
   "source": [
    "reviews_missing_removed[\"App\"].value_counts()"
   ]
  },
  {
   "cell_type": "markdown",
   "metadata": {},
   "source": [
    "#### Now the tough part comes. Let's plan how we will achieve our goal:\n",
    "\n",
    "1. We will count the number of reviews that contain *Positive* in the `Sentiment` column.\n",
    "\n",
    "1. We will create a new dataframe to contain the `App` name, the number of positive reviews, and the total number of reviews of each app.\n",
    "\n",
    "1. We will then loop the new dataframe to calculate the postivie review portion of each app."
   ]
  },
  {
   "cell_type": "markdown",
   "metadata": {},
   "source": [
    "#### Step 1: Count the number of positive reviews.\n",
    "\n",
    "In the following cell, write a function that takes a column and returns the number of times *Positive* appears in the column. \n",
    "\n",
    "*Hint: One option is to use the `np.where()` function ([documentation](https://docs.scipy.org/doc/numpy-1.13.0/reference/generated/numpy.where.html)).*"
   ]
  },
  {
   "cell_type": "code",
   "execution_count": 28,
   "metadata": {},
   "outputs": [],
   "source": [
    "# Your code below\n",
    "\n",
    "def positive_function(x):\n",
    "    \"\"\"\n",
    "    Count how many times the string `Positive` appears in a column (exact string match).\n",
    "    \n",
    "    Args:\n",
    "        x: data column\n",
    "    \n",
    "    Returns:\n",
    "        The number of occurrences of `Positive` in the column data.\n",
    "    \"\"\"\n",
    "    return (x == \"Positive\").sum()"
   ]
  },
  {
   "cell_type": "markdown",
   "metadata": {},
   "source": [
    "#### Step 2: Create a new dataframe to contain the `App` name, the number of positive reviews, and the total number of reviews of each app\n",
    "\n",
    "We will group `review_missing_removed` by the `App` column, then aggregate the grouped dataframe on the number of positive reviews and the total review counts of each app. The result will be assigned to a new variable `google_agg`. Here is the ([documentation on how to achieve it](https://pandas.pydata.org/pandas-docs/stable/generated/pandas.core.groupby.DataFrameGroupBy.agg.html)). Take a moment or two to read the documentation and google examples because it is pretty complex.\n",
    "\n",
    "When you obtain `google_agg`, check its values to make sure it has an `App` column as its index as well as a `Positive` column and a `Total` column. Your output should look like:\n",
    "\n",
    "![Positive Reviews Agg](positive-review-agg.png)\n",
    "\n",
    "*Hint: Use `positive_function` you created earlier as part of the param passed to the `agg()` function in order to aggregate the number of positive reviews.*\n",
    "\n",
    "#### Bonus:\n",
    "\n",
    "As of Pandas v0.23.4, you may opt to supply an array or an object to `agg()`. If you use the array param, you'll need to rename the columns so that their names are `Positive` and `Total`. Using the object param will allow you to create the aggregated columns with the desirable names without renaming them. However, you will probably encounter a warning indicating supplying an object to `agg()` will become outdated. It's up to you which way you will use. Try both ways out. Any way is fine as long as it works."
   ]
  },
  {
   "cell_type": "code",
   "execution_count": 29,
   "metadata": {},
   "outputs": [],
   "source": [
    "google_agg = reviews_missing_removed.groupby(\"App\").agg({\"Sentiment\": [positive_function, \"count\"]})\n",
    "google_agg.columns = [\"Positive\", \"Total\"]"
   ]
  },
  {
   "cell_type": "markdown",
   "metadata": {},
   "source": [
    "Print the first 5 rows of `google_agg` to check it."
   ]
  },
  {
   "cell_type": "code",
   "execution_count": 30,
   "metadata": {},
   "outputs": [
    {
     "output_type": "execute_result",
     "data": {
      "text/plain": "                                  Positive  Total\nApp                                              \n10 Best Foods for You                  162    194\n104 找工作 - 找工作 找打工 找兼職 履歷健檢 履歷診療室        31     40\n11st                                    23     40\n1800 Contacts - Lens Store              64     80\n1LINE – One Line with One Touch         27     38",
      "text/html": "<div>\n<style scoped>\n    .dataframe tbody tr th:only-of-type {\n        vertical-align: middle;\n    }\n\n    .dataframe tbody tr th {\n        vertical-align: top;\n    }\n\n    .dataframe thead th {\n        text-align: right;\n    }\n</style>\n<table border=\"1\" class=\"dataframe\">\n  <thead>\n    <tr style=\"text-align: right;\">\n      <th></th>\n      <th>Positive</th>\n      <th>Total</th>\n    </tr>\n    <tr>\n      <th>App</th>\n      <th></th>\n      <th></th>\n    </tr>\n  </thead>\n  <tbody>\n    <tr>\n      <th>10 Best Foods for You</th>\n      <td>162</td>\n      <td>194</td>\n    </tr>\n    <tr>\n      <th>104 找工作 - 找工作 找打工 找兼職 履歷健檢 履歷診療室</th>\n      <td>31</td>\n      <td>40</td>\n    </tr>\n    <tr>\n      <th>11st</th>\n      <td>23</td>\n      <td>40</td>\n    </tr>\n    <tr>\n      <th>1800 Contacts - Lens Store</th>\n      <td>64</td>\n      <td>80</td>\n    </tr>\n    <tr>\n      <th>1LINE – One Line with One Touch</th>\n      <td>27</td>\n      <td>38</td>\n    </tr>\n  </tbody>\n</table>\n</div>"
     },
     "metadata": {},
     "execution_count": 30
    }
   ],
   "source": [
    "google_agg.head()"
   ]
  },
  {
   "cell_type": "markdown",
   "metadata": {},
   "source": [
    "#### Add a derived column to `google_agg` that is the ratio of the `Positive` and the `Total` columns. Call this column `Positive Ratio`. \n",
    "\n",
    "Make sure to account for the case where the denominator is zero using the `np.where()` function."
   ]
  },
  {
   "cell_type": "code",
   "execution_count": 31,
   "metadata": {},
   "outputs": [],
   "source": [
    "google_agg[\"Positive Ratio\"] = google_agg[\"Positive\"] / google_agg[\"Total\"]"
   ]
  },
  {
   "cell_type": "markdown",
   "metadata": {},
   "source": [
    "#### Now drop the `Positive` and `Total` columns. Do this with `inplace=True`."
   ]
  },
  {
   "cell_type": "code",
   "execution_count": 32,
   "metadata": {},
   "outputs": [],
   "source": [
    "google_agg.drop(columns=[\"Positive\", \"Total\"], inplace=True)"
   ]
  },
  {
   "cell_type": "markdown",
   "metadata": {},
   "source": [
    "Print the first 5 rows of `google_agg`. Your output should look like:\n",
    "\n",
    "![Positive Reviews Agg](positive-review-ratio.png)"
   ]
  },
  {
   "cell_type": "code",
   "execution_count": 33,
   "metadata": {},
   "outputs": [
    {
     "output_type": "execute_result",
     "data": {
      "text/plain": "                                  Positive Ratio\nApp                                             \n10 Best Foods for You                   0.835052\n104 找工作 - 找工作 找打工 找兼職 履歷健檢 履歷診療室        0.775000\n11st                                    0.575000\n1800 Contacts - Lens Store              0.800000\n1LINE – One Line with One Touch         0.710526",
      "text/html": "<div>\n<style scoped>\n    .dataframe tbody tr th:only-of-type {\n        vertical-align: middle;\n    }\n\n    .dataframe tbody tr th {\n        vertical-align: top;\n    }\n\n    .dataframe thead th {\n        text-align: right;\n    }\n</style>\n<table border=\"1\" class=\"dataframe\">\n  <thead>\n    <tr style=\"text-align: right;\">\n      <th></th>\n      <th>Positive Ratio</th>\n    </tr>\n    <tr>\n      <th>App</th>\n      <th></th>\n    </tr>\n  </thead>\n  <tbody>\n    <tr>\n      <th>10 Best Foods for You</th>\n      <td>0.835052</td>\n    </tr>\n    <tr>\n      <th>104 找工作 - 找工作 找打工 找兼職 履歷健檢 履歷診療室</th>\n      <td>0.775000</td>\n    </tr>\n    <tr>\n      <th>11st</th>\n      <td>0.575000</td>\n    </tr>\n    <tr>\n      <th>1800 Contacts - Lens Store</th>\n      <td>0.800000</td>\n    </tr>\n    <tr>\n      <th>1LINE – One Line with One Touch</th>\n      <td>0.710526</td>\n    </tr>\n  </tbody>\n</table>\n</div>"
     },
     "metadata": {},
     "execution_count": 33
    }
   ],
   "source": [
    "google_agg.head()"
   ]
  },
  {
   "cell_type": "markdown",
   "metadata": {},
   "source": [
    "# Challenge 3 - Join the Dataframes\n",
    "\n",
    "In this part of the lab, we will join the two dataframes and obtain a dataframe that contains features we can use in our ML algorithm.\n",
    "\n",
    "In the next cell, join the `google_missing_removed` dataframe with the `google_agg` dataframe on the `App` column. Assign this dataframe to the variable `google`."
   ]
  },
  {
   "cell_type": "code",
   "execution_count": 34,
   "metadata": {},
   "outputs": [],
   "source": [
    "google = google_missing_removed.join(google_agg, on=\"App\", how=\"inner\")"
   ]
  },
  {
   "cell_type": "markdown",
   "metadata": {},
   "source": [
    "#### Let's look at the final result using the `head()` function. Your final product should look like:\n",
    "\n",
    "![Final Product](google-final-head.png)"
   ]
  },
  {
   "cell_type": "code",
   "execution_count": 35,
   "metadata": {},
   "outputs": [
    {
     "output_type": "execute_result",
     "data": {
      "text/plain": "                                            App        Category  Rating  \\\n1                           Coloring book moana  ART_AND_DESIGN     3.9   \n2033                        Coloring book moana          FAMILY     3.9   \n8                          Garden Coloring Book  ART_AND_DESIGN     4.4   \n18                FlipaClip - Cartoon animation  ART_AND_DESIGN     4.3   \n21    Boys Photo Editor - Six Pack &amp; Men&#39;s Suit  ART_AND_DESIGN     4.1   \n\n      Reviews    Installs  Type Content Rating                     Genres  \\\n1         967    500,000+  Free       Everyone  Art &amp; Design;Pretend Play   \n2033      974    500,000+  Free       Everyone  Art &amp; Design;Pretend Play   \n8       13791  1,000,000+  Free       Everyone               Art &amp; Design   \n18     194216  5,000,000+  Free       Everyone               Art &amp; Design   \n21        654    100,000+  Free       Everyone               Art &amp; Design   \n\n     Last Updated Current Ver   Android Ver  Reviews_numeric  Reviews_isnull  \\\n1      2018-01-15       2.0.0  4.0.3 and up            967.0           False   \n2033   2018-01-15       2.0.0  4.0.3 and up            974.0           False   \n8      2017-09-20       2.9.2    3.0 and up          13791.0           False   \n18     2018-08-03       2.2.5  4.0.3 and up         194216.0           False   \n21     2018-03-20         1.1  4.0.3 and up            654.0           False   \n\n      Price Numerical  Positive Ratio  \n1                 0.0        0.590909  \n2033              0.0        0.590909  \n8                 0.0        0.711111  \n18                0.0        1.000000  \n21                0.0        0.605263  ",
      "text/html": "<div>\n<style scoped>\n    .dataframe tbody tr th:only-of-type {\n        vertical-align: middle;\n    }\n\n    .dataframe tbody tr th {\n        vertical-align: top;\n    }\n\n    .dataframe thead th {\n        text-align: right;\n    }\n</style>\n<table border=\"1\" class=\"dataframe\">\n  <thead>\n    <tr style=\"text-align: right;\">\n      <th></th>\n      <th>App</th>\n      <th>Category</th>\n      <th>Rating</th>\n      <th>Reviews</th>\n      <th>Installs</th>\n      <th>Type</th>\n      <th>Content Rating</th>\n      <th>Genres</th>\n      <th>Last Updated</th>\n      <th>Current Ver</th>\n      <th>Android Ver</th>\n      <th>Reviews_numeric</th>\n      <th>Reviews_isnull</th>\n      <th>Price Numerical</th>\n      <th>Positive Ratio</th>\n    </tr>\n  </thead>\n  <tbody>\n    <tr>\n      <th>1</th>\n      <td>Coloring book moana</td>\n      <td>ART_AND_DESIGN</td>\n      <td>3.9</td>\n      <td>967</td>\n      <td>500,000+</td>\n      <td>Free</td>\n      <td>Everyone</td>\n      <td>Art &amp; Design;Pretend Play</td>\n      <td>2018-01-15</td>\n      <td>2.0.0</td>\n      <td>4.0.3 and up</td>\n      <td>967.0</td>\n      <td>False</td>\n      <td>0.0</td>\n      <td>0.590909</td>\n    </tr>\n    <tr>\n      <th>2033</th>\n      <td>Coloring book moana</td>\n      <td>FAMILY</td>\n      <td>3.9</td>\n      <td>974</td>\n      <td>500,000+</td>\n      <td>Free</td>\n      <td>Everyone</td>\n      <td>Art &amp; Design;Pretend Play</td>\n      <td>2018-01-15</td>\n      <td>2.0.0</td>\n      <td>4.0.3 and up</td>\n      <td>974.0</td>\n      <td>False</td>\n      <td>0.0</td>\n      <td>0.590909</td>\n    </tr>\n    <tr>\n      <th>8</th>\n      <td>Garden Coloring Book</td>\n      <td>ART_AND_DESIGN</td>\n      <td>4.4</td>\n      <td>13791</td>\n      <td>1,000,000+</td>\n      <td>Free</td>\n      <td>Everyone</td>\n      <td>Art &amp; Design</td>\n      <td>2017-09-20</td>\n      <td>2.9.2</td>\n      <td>3.0 and up</td>\n      <td>13791.0</td>\n      <td>False</td>\n      <td>0.0</td>\n      <td>0.711111</td>\n    </tr>\n    <tr>\n      <th>18</th>\n      <td>FlipaClip - Cartoon animation</td>\n      <td>ART_AND_DESIGN</td>\n      <td>4.3</td>\n      <td>194216</td>\n      <td>5,000,000+</td>\n      <td>Free</td>\n      <td>Everyone</td>\n      <td>Art &amp; Design</td>\n      <td>2018-08-03</td>\n      <td>2.2.5</td>\n      <td>4.0.3 and up</td>\n      <td>194216.0</td>\n      <td>False</td>\n      <td>0.0</td>\n      <td>1.000000</td>\n    </tr>\n    <tr>\n      <th>21</th>\n      <td>Boys Photo Editor - Six Pack &amp; Men's Suit</td>\n      <td>ART_AND_DESIGN</td>\n      <td>4.1</td>\n      <td>654</td>\n      <td>100,000+</td>\n      <td>Free</td>\n      <td>Everyone</td>\n      <td>Art &amp; Design</td>\n      <td>2018-03-20</td>\n      <td>1.1</td>\n      <td>4.0.3 and up</td>\n      <td>654.0</td>\n      <td>False</td>\n      <td>0.0</td>\n      <td>0.605263</td>\n    </tr>\n  </tbody>\n</table>\n</div>"
     },
     "metadata": {},
     "execution_count": 35
    }
   ],
   "source": [
    "google.head()"
   ]
  }
 ],
 "metadata": {
  "kernelspec": {
   "display_name": "Python 3",
   "language": "python",
   "name": "python3"
  },
  "language_info": {
   "codemirror_mode": {
    "name": "ipython",
    "version": 3
   },
   "file_extension": ".py",
   "mimetype": "text/x-python",
   "name": "python",
   "nbconvert_exporter": "python",
   "pygments_lexer": "ipython3",
   "version": "3.8.5-final"
  }
 },
 "nbformat": 4,
 "nbformat_minor": 2
}