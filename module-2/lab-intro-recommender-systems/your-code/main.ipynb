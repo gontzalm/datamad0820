{
 "cells": [
  {
   "cell_type": "markdown",
   "metadata": {},
   "source": [
    "# Intro to Recommender Systems Lab\n",
    "\n",
    "Complete the exercises below to solidify your knowledge and understanding of recommender systems.\n",
    "\n",
    "For this lab, we are going to be putting together a user similarity based recommender system in a step-by-step fashion. Our data set contains customer grocery purchases, and we will use similar purchase behavior to inform our recommender system. Our recommender system will generate 5 recommendations for each customer based on the purchases they have made."
   ]
  },
  {
   "cell_type": "code",
   "execution_count": 1,
   "metadata": {},
   "outputs": [],
   "source": [
    "import pandas as pd\n",
    "from scipy.spatial.distance import pdist, squareform"
   ]
  },
  {
   "cell_type": "code",
   "execution_count": 10,
   "metadata": {},
   "outputs": [],
   "source": [
    "data = pd.read_csv('../data/customer_product_sales.csv')"
   ]
  },
  {
   "cell_type": "code",
   "execution_count": 11,
   "metadata": {},
   "outputs": [
    {
     "output_type": "execute_result",
     "data": {
      "text/plain": "   CustomerID FirstName   LastName  SalesID  ProductID           ProductName  \\\n0       61288      Rosa   Andersen   134196        229  Bread - Hot Dog Buns   \n1       77352     Myron     Murray  6167892        229  Bread - Hot Dog Buns   \n2       40094     Susan  Stevenson  5970885        229  Bread - Hot Dog Buns   \n3       23548    Tricia    Vincent  6426954        229  Bread - Hot Dog Buns   \n4       78981     Scott      Burch   819094        229  Bread - Hot Dog Buns   \n\n   Quantity  \n0        16  \n1        20  \n2        11  \n3         6  \n4        20  ",
      "text/html": "<div>\n<style scoped>\n    .dataframe tbody tr th:only-of-type {\n        vertical-align: middle;\n    }\n\n    .dataframe tbody tr th {\n        vertical-align: top;\n    }\n\n    .dataframe thead th {\n        text-align: right;\n    }\n</style>\n<table border=\"1\" class=\"dataframe\">\n  <thead>\n    <tr style=\"text-align: right;\">\n      <th></th>\n      <th>CustomerID</th>\n      <th>FirstName</th>\n      <th>LastName</th>\n      <th>SalesID</th>\n      <th>ProductID</th>\n      <th>ProductName</th>\n      <th>Quantity</th>\n    </tr>\n  </thead>\n  <tbody>\n    <tr>\n      <th>0</th>\n      <td>61288</td>\n      <td>Rosa</td>\n      <td>Andersen</td>\n      <td>134196</td>\n      <td>229</td>\n      <td>Bread - Hot Dog Buns</td>\n      <td>16</td>\n    </tr>\n    <tr>\n      <th>1</th>\n      <td>77352</td>\n      <td>Myron</td>\n      <td>Murray</td>\n      <td>6167892</td>\n      <td>229</td>\n      <td>Bread - Hot Dog Buns</td>\n      <td>20</td>\n    </tr>\n    <tr>\n      <th>2</th>\n      <td>40094</td>\n      <td>Susan</td>\n      <td>Stevenson</td>\n      <td>5970885</td>\n      <td>229</td>\n      <td>Bread - Hot Dog Buns</td>\n      <td>11</td>\n    </tr>\n    <tr>\n      <th>3</th>\n      <td>23548</td>\n      <td>Tricia</td>\n      <td>Vincent</td>\n      <td>6426954</td>\n      <td>229</td>\n      <td>Bread - Hot Dog Buns</td>\n      <td>6</td>\n    </tr>\n    <tr>\n      <th>4</th>\n      <td>78981</td>\n      <td>Scott</td>\n      <td>Burch</td>\n      <td>819094</td>\n      <td>229</td>\n      <td>Bread - Hot Dog Buns</td>\n      <td>20</td>\n    </tr>\n  </tbody>\n</table>\n</div>"
     },
     "metadata": {},
     "execution_count": 11
    }
   ],
   "source": [
    "data.head()"
   ]
  },
  {
   "cell_type": "markdown",
   "metadata": {},
   "source": [
    "## Step 1: Create a data frame that contains the total quantity of each product purchased by each customer.\n",
    "\n",
    "You will need to group by CustomerID and ProductName and then sum the Quantity field."
   ]
  },
  {
   "cell_type": "code",
   "execution_count": 49,
   "metadata": {},
   "outputs": [
    {
     "output_type": "execute_result",
     "data": {
      "text/plain": "CustomerID  ProductName                  \n33          Apricots - Dried                 1\n            Assorted Desserts                1\n            Bandage - Flexible Neon          1\n            Bar Mix - Pina Colada, 355 Ml    1\n            Beans - Kidney, Canned           1\nName: Quantity, dtype: int64"
     },
     "metadata": {},
     "execution_count": 49
    }
   ],
   "source": [
    "qty = data.groupby([\"CustomerID\", \"ProductName\"])[\"Quantity\"].sum()\n",
    "qty.head()"
   ]
  },
  {
   "cell_type": "markdown",
   "metadata": {},
   "source": [
    "## Step 2: Use the `pivot_table` method to create a product by customer matrix.\n",
    "\n",
    "The rows of the matrix should represent the products, the columns should represent the customers, and the values should be the quantities of each product purchased by each customer. You will also need to replace nulls with zeros, which you can do using the `fillna` method."
   ]
  },
  {
   "cell_type": "code",
   "execution_count": 51,
   "metadata": {},
   "outputs": [
    {
     "output_type": "execute_result",
     "data": {
      "text/plain": "CustomerID                         33     200    264    356    412    464    \\\nProductName                                                                   \nAnchovy Paste - 56 G Tube            0.0    0.0    0.0    0.0    0.0    0.0   \nAppetizer - Mini Egg Roll, Shrimp    0.0    0.0    0.0    0.0    0.0    0.0   \nAppetizer - Mushroom Tart            0.0    0.0    0.0    0.0    0.0    0.0   \nAppetizer - Sausage Rolls            0.0    0.0    0.0    0.0    0.0    0.0   \nApricots - Dried                     1.0    0.0    0.0    0.0    1.0    0.0   \n\nCustomerID                         477    639    649    669    ...  97697  \\\nProductName                                                    ...          \nAnchovy Paste - 56 G Tube            0.0    1.0    0.0    0.0  ...    0.0   \nAppetizer - Mini Egg Roll, Shrimp    0.0    0.0    0.0    0.0  ...   25.0   \nAppetizer - Mushroom Tart            0.0    1.0    0.0    0.0  ...   25.0   \nAppetizer - Sausage Rolls            0.0    0.0    0.0    0.0  ...    0.0   \nApricots - Dried                     0.0    0.0    0.0    0.0  ...    0.0   \n\nCustomerID                         97753  97769  97793  97900  97928  98069  \\\nProductName                                                                   \nAnchovy Paste - 56 G Tube           25.0    0.0    0.0    0.0    0.0    0.0   \nAppetizer - Mini Egg Roll, Shrimp   25.0    0.0    0.0    0.0    0.0    0.0   \nAppetizer - Mushroom Tart            0.0    0.0    0.0    0.0    0.0    0.0   \nAppetizer - Sausage Rolls            0.0    0.0    0.0   25.0   25.0   25.0   \nApricots - Dried                    25.0    0.0    0.0    0.0    0.0    0.0   \n\nCustomerID                         98159  98185  98200  \nProductName                                             \nAnchovy Paste - 56 G Tube            0.0    0.0    0.0  \nAppetizer - Mini Egg Roll, Shrimp    0.0    0.0    0.0  \nAppetizer - Mushroom Tart            0.0   25.0    0.0  \nAppetizer - Sausage Rolls            0.0   25.0    0.0  \nApricots - Dried                     0.0    0.0    0.0  \n\n[5 rows x 1000 columns]",
      "text/html": "<div>\n<style scoped>\n    .dataframe tbody tr th:only-of-type {\n        vertical-align: middle;\n    }\n\n    .dataframe tbody tr th {\n        vertical-align: top;\n    }\n\n    .dataframe thead th {\n        text-align: right;\n    }\n</style>\n<table border=\"1\" class=\"dataframe\">\n  <thead>\n    <tr style=\"text-align: right;\">\n      <th>CustomerID</th>\n      <th>33</th>\n      <th>200</th>\n      <th>264</th>\n      <th>356</th>\n      <th>412</th>\n      <th>464</th>\n      <th>477</th>\n      <th>639</th>\n      <th>649</th>\n      <th>669</th>\n      <th>...</th>\n      <th>97697</th>\n      <th>97753</th>\n      <th>97769</th>\n      <th>97793</th>\n      <th>97900</th>\n      <th>97928</th>\n      <th>98069</th>\n      <th>98159</th>\n      <th>98185</th>\n      <th>98200</th>\n    </tr>\n    <tr>\n      <th>ProductName</th>\n      <th></th>\n      <th></th>\n      <th></th>\n      <th></th>\n      <th></th>\n      <th></th>\n      <th></th>\n      <th></th>\n      <th></th>\n      <th></th>\n      <th></th>\n      <th></th>\n      <th></th>\n      <th></th>\n      <th></th>\n      <th></th>\n      <th></th>\n      <th></th>\n      <th></th>\n      <th></th>\n      <th></th>\n    </tr>\n  </thead>\n  <tbody>\n    <tr>\n      <th>Anchovy Paste - 56 G Tube</th>\n      <td>0.0</td>\n      <td>0.0</td>\n      <td>0.0</td>\n      <td>0.0</td>\n      <td>0.0</td>\n      <td>0.0</td>\n      <td>0.0</td>\n      <td>1.0</td>\n      <td>0.0</td>\n      <td>0.0</td>\n      <td>...</td>\n      <td>0.0</td>\n      <td>25.0</td>\n      <td>0.0</td>\n      <td>0.0</td>\n      <td>0.0</td>\n      <td>0.0</td>\n      <td>0.0</td>\n      <td>0.0</td>\n      <td>0.0</td>\n      <td>0.0</td>\n    </tr>\n    <tr>\n      <th>Appetizer - Mini Egg Roll, Shrimp</th>\n      <td>0.0</td>\n      <td>0.0</td>\n      <td>0.0</td>\n      <td>0.0</td>\n      <td>0.0</td>\n      <td>0.0</td>\n      <td>0.0</td>\n      <td>0.0</td>\n      <td>0.0</td>\n      <td>0.0</td>\n      <td>...</td>\n      <td>25.0</td>\n      <td>25.0</td>\n      <td>0.0</td>\n      <td>0.0</td>\n      <td>0.0</td>\n      <td>0.0</td>\n      <td>0.0</td>\n      <td>0.0</td>\n      <td>0.0</td>\n      <td>0.0</td>\n    </tr>\n    <tr>\n      <th>Appetizer - Mushroom Tart</th>\n      <td>0.0</td>\n      <td>0.0</td>\n      <td>0.0</td>\n      <td>0.0</td>\n      <td>0.0</td>\n      <td>0.0</td>\n      <td>0.0</td>\n      <td>1.0</td>\n      <td>0.0</td>\n      <td>0.0</td>\n      <td>...</td>\n      <td>25.0</td>\n      <td>0.0</td>\n      <td>0.0</td>\n      <td>0.0</td>\n      <td>0.0</td>\n      <td>0.0</td>\n      <td>0.0</td>\n      <td>0.0</td>\n      <td>25.0</td>\n      <td>0.0</td>\n    </tr>\n    <tr>\n      <th>Appetizer - Sausage Rolls</th>\n      <td>0.0</td>\n      <td>0.0</td>\n      <td>0.0</td>\n      <td>0.0</td>\n      <td>0.0</td>\n      <td>0.0</td>\n      <td>0.0</td>\n      <td>0.0</td>\n      <td>0.0</td>\n      <td>0.0</td>\n      <td>...</td>\n      <td>0.0</td>\n      <td>0.0</td>\n      <td>0.0</td>\n      <td>0.0</td>\n      <td>25.0</td>\n      <td>25.0</td>\n      <td>25.0</td>\n      <td>0.0</td>\n      <td>25.0</td>\n      <td>0.0</td>\n    </tr>\n    <tr>\n      <th>Apricots - Dried</th>\n      <td>1.0</td>\n      <td>0.0</td>\n      <td>0.0</td>\n      <td>0.0</td>\n      <td>1.0</td>\n      <td>0.0</td>\n      <td>0.0</td>\n      <td>0.0</td>\n      <td>0.0</td>\n      <td>0.0</td>\n      <td>...</td>\n      <td>0.0</td>\n      <td>25.0</td>\n      <td>0.0</td>\n      <td>0.0</td>\n      <td>0.0</td>\n      <td>0.0</td>\n      <td>0.0</td>\n      <td>0.0</td>\n      <td>0.0</td>\n      <td>0.0</td>\n    </tr>\n  </tbody>\n</table>\n<p>5 rows × 1000 columns</p>\n</div>"
     },
     "metadata": {},
     "execution_count": 51
    }
   ],
   "source": [
    "prod_matrix = data.pivot_table(values=\"Quantity\", index=\"ProductName\", columns=\"CustomerID\", aggfunc=\"sum\").fillna(0)\n",
    "prod_matrix.head()"
   ]
  },
  {
   "cell_type": "markdown",
   "metadata": {},
   "source": [
    "## Step 3: Create a customer similarity matrix using `squareform` and `pdist`. For the distance metric, choose \"euclidean.\""
   ]
  },
  {
   "cell_type": "code",
   "execution_count": 46,
   "metadata": {},
   "outputs": [
    {
     "output_type": "display_data",
     "data": {
      "text/plain": "          33        200       264       356       412       464       477    \\\n                                                                              \n33     1.000000  0.077421  0.087047  0.081800  0.080634  0.082709  0.074573   \n200    0.077421  1.000000  0.078448  0.076435  0.073693  0.075255  0.075956   \n264    0.087047  0.078448  1.000000  0.080070  0.081800  0.080350  0.076923   \n356    0.081800  0.076435  0.080070  1.000000  0.076435  0.078187  0.075025   \n412    0.080634  0.073693  0.081800  0.076435  1.000000  0.078711  0.075025   \n...         ...       ...       ...       ...       ...       ...       ...   \n97928  0.004515  0.004521  0.004543  0.004526  0.004530  0.004533  0.004534   \n98069  0.004583  0.004614  0.004595  0.004578  0.004578  0.004578  0.004589   \n98159  0.004355  0.004367  0.004365  0.004365  0.004367  0.004363  0.004366   \n98185  0.004167  0.004166  0.004179  0.004175  0.004177  0.004167  0.004168   \n98200  0.004333  0.004335  0.004333  0.004339  0.004349  0.004347  0.004338   \n\n          639       649       669    ...     97697     97753     97769  \\\n                                     ...                                 \n33     0.083020  0.081503  0.080070  ...  0.004811  0.004669  0.004412   \n200    0.076435  0.077674  0.076923  ...  0.004824  0.004681  0.004431   \n264    0.080634  0.082100  0.078448  ...  0.004822  0.004674  0.004416   \n356    0.082403  0.077171  0.075956  ...  0.004816  0.004671  0.004416   \n412    0.082403  0.078187  0.078448  ...  0.004810  0.004702  0.004414   \n...         ...       ...       ...  ...       ...       ...       ...   \n97928  0.004526  0.004528  0.004523  ...  0.003509  0.003509  0.003300   \n98069  0.004581  0.004585  0.004592  ...  0.003509  0.003509  0.003369   \n98159  0.004363  0.004369  0.004365  ...  0.003509  0.003565  0.003322   \n98185  0.004176  0.004172  0.004161  ...  0.003311  0.003162  0.003255   \n98200  0.004335  0.004329  0.004347  ...  0.003418  0.003345  0.003381   \n\n          97793     97900     97928     98069     98159     98185     98200  \n                                                                             \n33     0.005019  0.004312  0.004515  0.004583  0.004355  0.004167  0.004333  \n200    0.005047  0.004311  0.004521  0.004614  0.004367  0.004166  0.004335  \n264    0.005035  0.004322  0.004543  0.004595  0.004365  0.004179  0.004333  \n356    0.005038  0.004310  0.004526  0.004578  0.004365  0.004175  0.004339  \n412    0.005034  0.004318  0.004530  0.004578  0.004367  0.004177  0.004349  \n...         ...       ...       ...       ...       ...       ...       ...  \n97928  0.003653  0.003579  1.000000  0.003638  0.003418  0.003255  0.003245  \n98069  0.003509  0.003496  0.003638  1.000000  0.003469  0.003345  0.003381  \n98159  0.003431  0.003322  0.003418  0.003469  1.000000  0.003277  0.003266  \n98185  0.003406  0.003172  0.003255  0.003345  0.003277  1.000000  0.003288  \n98200  0.003444  0.003288  0.003245  0.003381  0.003266  0.003288  1.000000  \n\n[1000 rows x 1000 columns]",
      "text/html": "<div>\n<style scoped>\n    .dataframe tbody tr th:only-of-type {\n        vertical-align: middle;\n    }\n\n    .dataframe tbody tr th {\n        vertical-align: top;\n    }\n\n    .dataframe thead th {\n        text-align: right;\n    }\n</style>\n<table border=\"1\" class=\"dataframe\">\n  <thead>\n    <tr style=\"text-align: right;\">\n      <th></th>\n      <th>33</th>\n      <th>200</th>\n      <th>264</th>\n      <th>356</th>\n      <th>412</th>\n      <th>464</th>\n      <th>477</th>\n      <th>639</th>\n      <th>649</th>\n      <th>669</th>\n      <th>...</th>\n      <th>97697</th>\n      <th>97753</th>\n      <th>97769</th>\n      <th>97793</th>\n      <th>97900</th>\n      <th>97928</th>\n      <th>98069</th>\n      <th>98159</th>\n      <th>98185</th>\n      <th>98200</th>\n    </tr>\n    <tr>\n      <th></th>\n      <th></th>\n      <th></th>\n      <th></th>\n      <th></th>\n      <th></th>\n      <th></th>\n      <th></th>\n      <th></th>\n      <th></th>\n      <th></th>\n      <th></th>\n      <th></th>\n      <th></th>\n      <th></th>\n      <th></th>\n      <th></th>\n      <th></th>\n      <th></th>\n      <th></th>\n      <th></th>\n      <th></th>\n    </tr>\n  </thead>\n  <tbody>\n    <tr>\n      <th>33</th>\n      <td>1.000000</td>\n      <td>0.077421</td>\n      <td>0.087047</td>\n      <td>0.081800</td>\n      <td>0.080634</td>\n      <td>0.082709</td>\n      <td>0.074573</td>\n      <td>0.083020</td>\n      <td>0.081503</td>\n      <td>0.080070</td>\n      <td>...</td>\n      <td>0.004811</td>\n      <td>0.004669</td>\n      <td>0.004412</td>\n      <td>0.005019</td>\n      <td>0.004312</td>\n      <td>0.004515</td>\n      <td>0.004583</td>\n      <td>0.004355</td>\n      <td>0.004167</td>\n      <td>0.004333</td>\n    </tr>\n    <tr>\n      <th>200</th>\n      <td>0.077421</td>\n      <td>1.000000</td>\n      <td>0.078448</td>\n      <td>0.076435</td>\n      <td>0.073693</td>\n      <td>0.075255</td>\n      <td>0.075956</td>\n      <td>0.076435</td>\n      <td>0.077674</td>\n      <td>0.076923</td>\n      <td>...</td>\n      <td>0.004824</td>\n      <td>0.004681</td>\n      <td>0.004431</td>\n      <td>0.005047</td>\n      <td>0.004311</td>\n      <td>0.004521</td>\n      <td>0.004614</td>\n      <td>0.004367</td>\n      <td>0.004166</td>\n      <td>0.004335</td>\n    </tr>\n    <tr>\n      <th>264</th>\n      <td>0.087047</td>\n      <td>0.078448</td>\n      <td>1.000000</td>\n      <td>0.080070</td>\n      <td>0.081800</td>\n      <td>0.080350</td>\n      <td>0.076923</td>\n      <td>0.080634</td>\n      <td>0.082100</td>\n      <td>0.078448</td>\n      <td>...</td>\n      <td>0.004822</td>\n      <td>0.004674</td>\n      <td>0.004416</td>\n      <td>0.005035</td>\n      <td>0.004322</td>\n      <td>0.004543</td>\n      <td>0.004595</td>\n      <td>0.004365</td>\n      <td>0.004179</td>\n      <td>0.004333</td>\n    </tr>\n    <tr>\n      <th>356</th>\n      <td>0.081800</td>\n      <td>0.076435</td>\n      <td>0.080070</td>\n      <td>1.000000</td>\n      <td>0.076435</td>\n      <td>0.078187</td>\n      <td>0.075025</td>\n      <td>0.082403</td>\n      <td>0.077171</td>\n      <td>0.075956</td>\n      <td>...</td>\n      <td>0.004816</td>\n      <td>0.004671</td>\n      <td>0.004416</td>\n      <td>0.005038</td>\n      <td>0.004310</td>\n      <td>0.004526</td>\n      <td>0.004578</td>\n      <td>0.004365</td>\n      <td>0.004175</td>\n      <td>0.004339</td>\n    </tr>\n    <tr>\n      <th>412</th>\n      <td>0.080634</td>\n      <td>0.073693</td>\n      <td>0.081800</td>\n      <td>0.076435</td>\n      <td>1.000000</td>\n      <td>0.078711</td>\n      <td>0.075025</td>\n      <td>0.082403</td>\n      <td>0.078187</td>\n      <td>0.078448</td>\n      <td>...</td>\n      <td>0.004810</td>\n      <td>0.004702</td>\n      <td>0.004414</td>\n      <td>0.005034</td>\n      <td>0.004318</td>\n      <td>0.004530</td>\n      <td>0.004578</td>\n      <td>0.004367</td>\n      <td>0.004177</td>\n      <td>0.004349</td>\n    </tr>\n    <tr>\n      <th>...</th>\n      <td>...</td>\n      <td>...</td>\n      <td>...</td>\n      <td>...</td>\n      <td>...</td>\n      <td>...</td>\n      <td>...</td>\n      <td>...</td>\n      <td>...</td>\n      <td>...</td>\n      <td>...</td>\n      <td>...</td>\n      <td>...</td>\n      <td>...</td>\n      <td>...</td>\n      <td>...</td>\n      <td>...</td>\n      <td>...</td>\n      <td>...</td>\n      <td>...</td>\n      <td>...</td>\n    </tr>\n    <tr>\n      <th>97928</th>\n      <td>0.004515</td>\n      <td>0.004521</td>\n      <td>0.004543</td>\n      <td>0.004526</td>\n      <td>0.004530</td>\n      <td>0.004533</td>\n      <td>0.004534</td>\n      <td>0.004526</td>\n      <td>0.004528</td>\n      <td>0.004523</td>\n      <td>...</td>\n      <td>0.003509</td>\n      <td>0.003509</td>\n      <td>0.003300</td>\n      <td>0.003653</td>\n      <td>0.003579</td>\n      <td>1.000000</td>\n      <td>0.003638</td>\n      <td>0.003418</td>\n      <td>0.003255</td>\n      <td>0.003245</td>\n    </tr>\n    <tr>\n      <th>98069</th>\n      <td>0.004583</td>\n      <td>0.004614</td>\n      <td>0.004595</td>\n      <td>0.004578</td>\n      <td>0.004578</td>\n      <td>0.004578</td>\n      <td>0.004589</td>\n      <td>0.004581</td>\n      <td>0.004585</td>\n      <td>0.004592</td>\n      <td>...</td>\n      <td>0.003509</td>\n      <td>0.003509</td>\n      <td>0.003369</td>\n      <td>0.003509</td>\n      <td>0.003496</td>\n      <td>0.003638</td>\n      <td>1.000000</td>\n      <td>0.003469</td>\n      <td>0.003345</td>\n      <td>0.003381</td>\n    </tr>\n    <tr>\n      <th>98159</th>\n      <td>0.004355</td>\n      <td>0.004367</td>\n      <td>0.004365</td>\n      <td>0.004365</td>\n      <td>0.004367</td>\n      <td>0.004363</td>\n      <td>0.004366</td>\n      <td>0.004363</td>\n      <td>0.004369</td>\n      <td>0.004365</td>\n      <td>...</td>\n      <td>0.003509</td>\n      <td>0.003565</td>\n      <td>0.003322</td>\n      <td>0.003431</td>\n      <td>0.003322</td>\n      <td>0.003418</td>\n      <td>0.003469</td>\n      <td>1.000000</td>\n      <td>0.003277</td>\n      <td>0.003266</td>\n    </tr>\n    <tr>\n      <th>98185</th>\n      <td>0.004167</td>\n      <td>0.004166</td>\n      <td>0.004179</td>\n      <td>0.004175</td>\n      <td>0.004177</td>\n      <td>0.004167</td>\n      <td>0.004168</td>\n      <td>0.004176</td>\n      <td>0.004172</td>\n      <td>0.004161</td>\n      <td>...</td>\n      <td>0.003311</td>\n      <td>0.003162</td>\n      <td>0.003255</td>\n      <td>0.003406</td>\n      <td>0.003172</td>\n      <td>0.003255</td>\n      <td>0.003345</td>\n      <td>0.003277</td>\n      <td>1.000000</td>\n      <td>0.003288</td>\n    </tr>\n    <tr>\n      <th>98200</th>\n      <td>0.004333</td>\n      <td>0.004335</td>\n      <td>0.004333</td>\n      <td>0.004339</td>\n      <td>0.004349</td>\n      <td>0.004347</td>\n      <td>0.004338</td>\n      <td>0.004335</td>\n      <td>0.004329</td>\n      <td>0.004347</td>\n      <td>...</td>\n      <td>0.003418</td>\n      <td>0.003345</td>\n      <td>0.003381</td>\n      <td>0.003444</td>\n      <td>0.003288</td>\n      <td>0.003245</td>\n      <td>0.003381</td>\n      <td>0.003266</td>\n      <td>0.003288</td>\n      <td>1.000000</td>\n    </tr>\n  </tbody>\n</table>\n<p>1000 rows × 1000 columns</p>\n</div>"
     },
     "metadata": {}
    }
   ],
   "source": [
    "sim_matrix = pd.DataFrame(1 / (1 + squareform(pdist(prod_matrix.T, \"euclidean\"))), index=prod_matrix.columns, columns=prod_matrix.columns)\n",
    "sim_matrix.columns.name = \"\"\n",
    "display(sim_matrix)"
   ]
  },
  {
   "cell_type": "markdown",
   "metadata": {},
   "source": [
    "## Step 4: Check your results by generating a list of the top 5 most similar customers for a specific CustomerID."
   ]
  },
  {
   "cell_type": "code",
   "execution_count": 68,
   "metadata": {},
   "outputs": [
    {
     "output_type": "execute_result",
     "data": {
      "text/plain": "\n264     0.087047\n3535    0.087047\n3317    0.087047\n2503    0.085983\n3305    0.085638\nName: 33, dtype: float64"
     },
     "metadata": {},
     "execution_count": 68
    }
   ],
   "source": [
    "sim_33 = sim_matrix[33].sort_values(ascending=False)[1:6]\n",
    "sim_33.head()"
   ]
  },
  {
   "cell_type": "markdown",
   "metadata": {},
   "source": [
    "## Step 5: From the data frame you created in Step 1, select the records for the list of similar CustomerIDs you obtained in Step 4."
   ]
  },
  {
   "cell_type": "code",
   "execution_count": 69,
   "metadata": {},
   "outputs": [
    {
     "output_type": "display_data",
     "data": {
      "text/plain": "CustomerID  ProductName                  \n264         Apricots - Halves                1\n            Apricots Fresh                   1\n            Bacardi Breezer - Tropical       1\n            Bagel - Plain                    1\n            Banana - Leaves                  1\n                                            ..\n3305        Wine - Ej Gallo Sierra Valley    2\n            Wine - Pinot Noir Latour         1\n            Wine - Redchard Merritt          1\n            Wine - White Cab Sauv.on         1\n            Yogurt - French Vanilla          1\nName: Quantity, Length: 270, dtype: int64"
     },
     "metadata": {}
    }
   ],
   "source": [
    "sim_33_purchases = qty.loc[sim_33.index]\n",
    "display(sim_33_purchases)"
   ]
  },
  {
   "cell_type": "markdown",
   "metadata": {},
   "source": [
    "## Step 6: Aggregate those customer purchase records by ProductName, sum the Quantity field, and then rank them in descending order by quantity.\n",
    "\n",
    "This will give you the total number of each product purchased by the 5 most similar customers to the customer you selected in order from most purchased to least."
   ]
  },
  {
   "cell_type": "code",
   "execution_count": 78,
   "metadata": {},
   "outputs": [
    {
     "output_type": "display_data",
     "data": {
      "text/plain": "ProductName\nButter - Unsalted                3\nSoup - Campbells Bean Medley     3\nTowels - Paper / Kraft           3\nWine - Ej Gallo Sierra Valley    3\nPepper - Black, Whole            3\n                                ..\nPepper - White, Ground           1\nPepper - Paprika, Hungarian      1\nPate - Cognac                    1\nPastry - Choclate Baked          1\nAnchovy Paste - 56 G Tube        1\nName: Quantity, Length: 218, dtype: int64"
     },
     "metadata": {}
    }
   ],
   "source": [
    "sim_33_purchases = sim_33_purchases.reset_index().groupby(\"ProductName\")[\"Quantity\"].sum().sort_values(ascending=False)\n",
    "display(sim_33_purchases)"
   ]
  },
  {
   "cell_type": "markdown",
   "metadata": {},
   "source": [
    "## Step 7: Filter the list for products that the chosen customer has not yet purchased and then recommend the top 5 products with the highest quantities that are left.\n",
    "\n",
    "- Merge the ranked products data frame with the customer product matrix on the ProductName field.\n",
    "- Filter for records where the chosen customer has not purchased the product.\n",
    "- Show the top 5 results."
   ]
  },
  {
   "cell_type": "code",
   "execution_count": 90,
   "metadata": {},
   "outputs": [
    {
     "output_type": "execute_result",
     "data": {
      "text/plain": "ProductName\nButter - Unsalted                3\nSoup - Campbells Bean Medley     3\nWine - Ej Gallo Sierra Valley    3\nWine - Blue Nun Qualitatswein    3\nScallops 60/80 Iqf               2\nName: Quantity, dtype: int64"
     },
     "metadata": {},
     "execution_count": 90
    }
   ],
   "source": [
    "sim_33_purchases.drop(labels=qty[33].index, errors=\"ignore\", inplace=True)\n",
    "sim_33_purchases.head()"
   ]
  },
  {
   "cell_type": "markdown",
   "metadata": {},
   "source": [
    "## Step 8: Now that we have generated product recommendations for a single user, put the pieces together and iterate over a list of all CustomerIDs.\n",
    "\n",
    "- Create an empty dictionary that will hold the recommendations for all customers.\n",
    "- Create a list of unique CustomerIDs to iterate over.\n",
    "- Iterate over the customer list performing steps 4 through 7 for each and appending the results of each iteration to the dictionary you created."
   ]
  },
  {
   "cell_type": "code",
   "execution_count": 95,
   "metadata": {},
   "outputs": [],
   "source": [
    "recommendations = {}\n",
    "ids = data[\"CustomerID\"].unique()"
   ]
  },
  {
   "cell_type": "code",
   "execution_count": 96,
   "metadata": {},
   "outputs": [],
   "source": [
    "for cust in ids:\n",
    "    sim = sim_matrix[cust].sort_values(ascending=False)[1:6]\n",
    "    pur = qty.loc[sim.index].reset_index().groupby(\"ProductName\")[\"Quantity\"].sum().sort_values(ascending=False)\n",
    "    pur.drop(labels=qty[cust].index, errors=\"ignore\", inplace=True)\n",
    "    recommendations[cust] = pur[:5].index.tolist()"
   ]
  },
  {
   "cell_type": "markdown",
   "metadata": {},
   "source": [
    "##  Step 9: Store the results in a Pandas data frame. The data frame should a column for Customer ID and then a column for each of the 5 product recommendations for each customer."
   ]
  },
  {
   "cell_type": "code",
   "execution_count": 102,
   "metadata": {
    "scrolled": true
   },
   "outputs": [
    {
     "output_type": "execute_result",
     "data": {
      "text/plain": "   CustomerID                        Product 1            Product 2  \\\n0       61288                     Jagermeister  Chicken - Soup Base   \n1       77352         Wine - Valpolicella Masi         Tahini Paste   \n2       40094   Bread - Italian Corn Meal Poly        Puree - Mocha   \n3       23548  Squid - Tubes / Tenticles 10/20  Flavouring - Orange   \n4       78981                    Vanilla Beans     Lettuce - Frisee   \n\n                    Product 3                    Product 4  \\\n0        Lime Cordial - Roses    Macaroons - Two Bite Choc   \n1         Tuna - Salad Premix          Chicken - Soup Base   \n2         Tuna - Salad Premix        Oregano - Dry, Rubbed   \n3  Bread - Raisin Walnut Oval  Sprouts - Baby Pea Tendrils   \n4  Yogurt - Blueberry, 175 Gr         Cinnamon Buns Sticky   \n\n                  Product 5  \n0  Water - Mineral, Natural  \n1                   Isomalt  \n2          Halibut - Steaks  \n3            Banana Turning  \n4       Beef - Inside Round  ",
      "text/html": "<div>\n<style scoped>\n    .dataframe tbody tr th:only-of-type {\n        vertical-align: middle;\n    }\n\n    .dataframe tbody tr th {\n        vertical-align: top;\n    }\n\n    .dataframe thead th {\n        text-align: right;\n    }\n</style>\n<table border=\"1\" class=\"dataframe\">\n  <thead>\n    <tr style=\"text-align: right;\">\n      <th></th>\n      <th>CustomerID</th>\n      <th>Product 1</th>\n      <th>Product 2</th>\n      <th>Product 3</th>\n      <th>Product 4</th>\n      <th>Product 5</th>\n    </tr>\n  </thead>\n  <tbody>\n    <tr>\n      <th>0</th>\n      <td>61288</td>\n      <td>Jagermeister</td>\n      <td>Chicken - Soup Base</td>\n      <td>Lime Cordial - Roses</td>\n      <td>Macaroons - Two Bite Choc</td>\n      <td>Water - Mineral, Natural</td>\n    </tr>\n    <tr>\n      <th>1</th>\n      <td>77352</td>\n      <td>Wine - Valpolicella Masi</td>\n      <td>Tahini Paste</td>\n      <td>Tuna - Salad Premix</td>\n      <td>Chicken - Soup Base</td>\n      <td>Isomalt</td>\n    </tr>\n    <tr>\n      <th>2</th>\n      <td>40094</td>\n      <td>Bread - Italian Corn Meal Poly</td>\n      <td>Puree - Mocha</td>\n      <td>Tuna - Salad Premix</td>\n      <td>Oregano - Dry, Rubbed</td>\n      <td>Halibut - Steaks</td>\n    </tr>\n    <tr>\n      <th>3</th>\n      <td>23548</td>\n      <td>Squid - Tubes / Tenticles 10/20</td>\n      <td>Flavouring - Orange</td>\n      <td>Bread - Raisin Walnut Oval</td>\n      <td>Sprouts - Baby Pea Tendrils</td>\n      <td>Banana Turning</td>\n    </tr>\n    <tr>\n      <th>4</th>\n      <td>78981</td>\n      <td>Vanilla Beans</td>\n      <td>Lettuce - Frisee</td>\n      <td>Yogurt - Blueberry, 175 Gr</td>\n      <td>Cinnamon Buns Sticky</td>\n      <td>Beef - Inside Round</td>\n    </tr>\n  </tbody>\n</table>\n</div>"
     },
     "metadata": {},
     "execution_count": 102
    }
   ],
   "source": [
    "columns = [\"CustomerID\"] + [f\"Product {i}\" for i in range(1, 6)]\n",
    "recomm = pd.DataFrame.from_dict(recommendations, orient=\"index\").reset_index()\n",
    "recomm.columns = columns\n",
    "recomm.head()"
   ]
  },
  {
   "cell_type": "markdown",
   "metadata": {},
   "source": [
    "## Step 10: Change the distance metric used in Step 3 to something other than euclidean (correlation, cityblock, consine, jaccard, etc.). Regenerate the recommendations for all customers and note the differences."
   ]
  },
  {
   "cell_type": "code",
   "execution_count": 103,
   "metadata": {},
   "outputs": [
    {
     "output_type": "display_data",
     "data": {
      "text/plain": "          33        200       264       356       412       464       477    \\\n                                                                              \n33     1.000000  0.530003  0.563492  0.543546  0.542393  0.541054  0.522016   \n200    0.530003  1.000000  0.537166  0.535098  0.521226  0.519193  0.556945   \n264    0.563492  0.537166  1.000000  0.531963  0.550168  0.525368  0.538967   \n356    0.543546  0.535098  0.531963  1.000000  0.525982  0.523986  0.536792   \n412    0.542393  0.521226  0.550168  0.525982  1.000000  0.534073  0.542308   \n...         ...       ...       ...       ...       ...       ...       ...   \n97928  0.513809  0.521925  0.560225  0.530406  0.536686  0.542873  0.540381   \n98069  0.528795  0.573177  0.548538  0.520138  0.519628  0.520835  0.534221   \n98159  0.520208  0.537284  0.538340  0.536202  0.538710  0.533856  0.535601   \n98185  0.529481  0.526167  0.554929  0.544727  0.546943  0.528842  0.527943   \n98200  0.527142  0.527280  0.527142  0.535974  0.552636  0.552221  0.532238   \n\n          639       649       669    ...     97697     97753     97769  \\\n                                     ...                                 \n33     0.530783  0.533096  0.535293  ...  0.530306  0.517987  0.527662   \n200    0.516729  0.536350  0.541451  ...  0.545224  0.533067  0.555246   \n264    0.514932  0.537046  0.524193  ...  0.546880  0.525550  0.535062   \n356    0.540890  0.516901  0.519482  ...  0.536321  0.520565  0.533119   \n412    0.547743  0.530459  0.543050  ...  0.527903  0.565369  0.528847   \n...         ...       ...       ...  ...       ...       ...       ...   \n97928  0.533190  0.535224  0.526495  ...  0.532674  0.539309  0.522883   \n98069  0.525789  0.531918  0.541402  ...  0.529233  0.535979  0.530224   \n98159  0.535704  0.544926  0.535721  ...  0.542777  0.556893  0.535487   \n98185  0.548943  0.539210  0.518002  ...  0.526429  0.509322  0.537103   \n98200  0.531706  0.519657  0.549685  ...  0.531214  0.526748  0.545760   \n\n          97793     97900     97928     98069     98159     98185     98200  \n                                                                             \n33     0.511471  0.534181  0.513809  0.528795  0.520208  0.529481  0.527142  \n200    0.543554  0.530308  0.521925  0.573177  0.537284  0.526167  0.527280  \n264    0.531806  0.553085  0.560225  0.548538  0.538340  0.554929  0.527142  \n356    0.534066  0.528874  0.530406  0.520138  0.536202  0.544727  0.535974  \n412    0.529278  0.541674  0.536686  0.519628  0.538710  0.546943  0.552636  \n...         ...       ...       ...       ...       ...       ...       ...  \n97928  0.542570  0.569539  1.000000  0.562050  0.543657  0.531363  0.519127  \n98069  0.518742  0.554911  0.562050  1.000000  0.548011  0.542143  0.536728  \n98159  0.521507  0.541404  0.543657  0.548011  1.000000  0.543258  0.531447  \n98185  0.531411  0.529780  0.531363  0.542143  0.543258  1.000000  0.546336  \n98200  0.525116  0.537737  0.519127  0.536728  0.531447  0.546336  1.000000  \n\n[1000 rows x 1000 columns]",
      "text/html": "<div>\n<style scoped>\n    .dataframe tbody tr th:only-of-type {\n        vertical-align: middle;\n    }\n\n    .dataframe tbody tr th {\n        vertical-align: top;\n    }\n\n    .dataframe thead th {\n        text-align: right;\n    }\n</style>\n<table border=\"1\" class=\"dataframe\">\n  <thead>\n    <tr style=\"text-align: right;\">\n      <th></th>\n      <th>33</th>\n      <th>200</th>\n      <th>264</th>\n      <th>356</th>\n      <th>412</th>\n      <th>464</th>\n      <th>477</th>\n      <th>639</th>\n      <th>649</th>\n      <th>669</th>\n      <th>...</th>\n      <th>97697</th>\n      <th>97753</th>\n      <th>97769</th>\n      <th>97793</th>\n      <th>97900</th>\n      <th>97928</th>\n      <th>98069</th>\n      <th>98159</th>\n      <th>98185</th>\n      <th>98200</th>\n    </tr>\n    <tr>\n      <th></th>\n      <th></th>\n      <th></th>\n      <th></th>\n      <th></th>\n      <th></th>\n      <th></th>\n      <th></th>\n      <th></th>\n      <th></th>\n      <th></th>\n      <th></th>\n      <th></th>\n      <th></th>\n      <th></th>\n      <th></th>\n      <th></th>\n      <th></th>\n      <th></th>\n      <th></th>\n      <th></th>\n      <th></th>\n    </tr>\n  </thead>\n  <tbody>\n    <tr>\n      <th>33</th>\n      <td>1.000000</td>\n      <td>0.530003</td>\n      <td>0.563492</td>\n      <td>0.543546</td>\n      <td>0.542393</td>\n      <td>0.541054</td>\n      <td>0.522016</td>\n      <td>0.530783</td>\n      <td>0.533096</td>\n      <td>0.535293</td>\n      <td>...</td>\n      <td>0.530306</td>\n      <td>0.517987</td>\n      <td>0.527662</td>\n      <td>0.511471</td>\n      <td>0.534181</td>\n      <td>0.513809</td>\n      <td>0.528795</td>\n      <td>0.520208</td>\n      <td>0.529481</td>\n      <td>0.527142</td>\n    </tr>\n    <tr>\n      <th>200</th>\n      <td>0.530003</td>\n      <td>1.000000</td>\n      <td>0.537166</td>\n      <td>0.535098</td>\n      <td>0.521226</td>\n      <td>0.519193</td>\n      <td>0.556945</td>\n      <td>0.516729</td>\n      <td>0.536350</td>\n      <td>0.541451</td>\n      <td>...</td>\n      <td>0.545224</td>\n      <td>0.533067</td>\n      <td>0.555246</td>\n      <td>0.543554</td>\n      <td>0.530308</td>\n      <td>0.521925</td>\n      <td>0.573177</td>\n      <td>0.537284</td>\n      <td>0.526167</td>\n      <td>0.527280</td>\n    </tr>\n    <tr>\n      <th>264</th>\n      <td>0.563492</td>\n      <td>0.537166</td>\n      <td>1.000000</td>\n      <td>0.531963</td>\n      <td>0.550168</td>\n      <td>0.525368</td>\n      <td>0.538967</td>\n      <td>0.514932</td>\n      <td>0.537046</td>\n      <td>0.524193</td>\n      <td>...</td>\n      <td>0.546880</td>\n      <td>0.525550</td>\n      <td>0.535062</td>\n      <td>0.531806</td>\n      <td>0.553085</td>\n      <td>0.560225</td>\n      <td>0.548538</td>\n      <td>0.538340</td>\n      <td>0.554929</td>\n      <td>0.527142</td>\n    </tr>\n    <tr>\n      <th>356</th>\n      <td>0.543546</td>\n      <td>0.535098</td>\n      <td>0.531963</td>\n      <td>1.000000</td>\n      <td>0.525982</td>\n      <td>0.523986</td>\n      <td>0.536792</td>\n      <td>0.540890</td>\n      <td>0.516901</td>\n      <td>0.519482</td>\n      <td>...</td>\n      <td>0.536321</td>\n      <td>0.520565</td>\n      <td>0.533119</td>\n      <td>0.534066</td>\n      <td>0.528874</td>\n      <td>0.530406</td>\n      <td>0.520138</td>\n      <td>0.536202</td>\n      <td>0.544727</td>\n      <td>0.535974</td>\n    </tr>\n    <tr>\n      <th>412</th>\n      <td>0.542393</td>\n      <td>0.521226</td>\n      <td>0.550168</td>\n      <td>0.525982</td>\n      <td>1.000000</td>\n      <td>0.534073</td>\n      <td>0.542308</td>\n      <td>0.547743</td>\n      <td>0.530459</td>\n      <td>0.543050</td>\n      <td>...</td>\n      <td>0.527903</td>\n      <td>0.565369</td>\n      <td>0.528847</td>\n      <td>0.529278</td>\n      <td>0.541674</td>\n      <td>0.536686</td>\n      <td>0.519628</td>\n      <td>0.538710</td>\n      <td>0.546943</td>\n      <td>0.552636</td>\n    </tr>\n    <tr>\n      <th>...</th>\n      <td>...</td>\n      <td>...</td>\n      <td>...</td>\n      <td>...</td>\n      <td>...</td>\n      <td>...</td>\n      <td>...</td>\n      <td>...</td>\n      <td>...</td>\n      <td>...</td>\n      <td>...</td>\n      <td>...</td>\n      <td>...</td>\n      <td>...</td>\n      <td>...</td>\n      <td>...</td>\n      <td>...</td>\n      <td>...</td>\n      <td>...</td>\n      <td>...</td>\n      <td>...</td>\n    </tr>\n    <tr>\n      <th>97928</th>\n      <td>0.513809</td>\n      <td>0.521925</td>\n      <td>0.560225</td>\n      <td>0.530406</td>\n      <td>0.536686</td>\n      <td>0.542873</td>\n      <td>0.540381</td>\n      <td>0.533190</td>\n      <td>0.535224</td>\n      <td>0.526495</td>\n      <td>...</td>\n      <td>0.532674</td>\n      <td>0.539309</td>\n      <td>0.522883</td>\n      <td>0.542570</td>\n      <td>0.569539</td>\n      <td>1.000000</td>\n      <td>0.562050</td>\n      <td>0.543657</td>\n      <td>0.531363</td>\n      <td>0.519127</td>\n    </tr>\n    <tr>\n      <th>98069</th>\n      <td>0.528795</td>\n      <td>0.573177</td>\n      <td>0.548538</td>\n      <td>0.520138</td>\n      <td>0.519628</td>\n      <td>0.520835</td>\n      <td>0.534221</td>\n      <td>0.525789</td>\n      <td>0.531918</td>\n      <td>0.541402</td>\n      <td>...</td>\n      <td>0.529233</td>\n      <td>0.535979</td>\n      <td>0.530224</td>\n      <td>0.518742</td>\n      <td>0.554911</td>\n      <td>0.562050</td>\n      <td>1.000000</td>\n      <td>0.548011</td>\n      <td>0.542143</td>\n      <td>0.536728</td>\n    </tr>\n    <tr>\n      <th>98159</th>\n      <td>0.520208</td>\n      <td>0.537284</td>\n      <td>0.538340</td>\n      <td>0.536202</td>\n      <td>0.538710</td>\n      <td>0.533856</td>\n      <td>0.535601</td>\n      <td>0.535704</td>\n      <td>0.544926</td>\n      <td>0.535721</td>\n      <td>...</td>\n      <td>0.542777</td>\n      <td>0.556893</td>\n      <td>0.535487</td>\n      <td>0.521507</td>\n      <td>0.541404</td>\n      <td>0.543657</td>\n      <td>0.548011</td>\n      <td>1.000000</td>\n      <td>0.543258</td>\n      <td>0.531447</td>\n    </tr>\n    <tr>\n      <th>98185</th>\n      <td>0.529481</td>\n      <td>0.526167</td>\n      <td>0.554929</td>\n      <td>0.544727</td>\n      <td>0.546943</td>\n      <td>0.528842</td>\n      <td>0.527943</td>\n      <td>0.548943</td>\n      <td>0.539210</td>\n      <td>0.518002</td>\n      <td>...</td>\n      <td>0.526429</td>\n      <td>0.509322</td>\n      <td>0.537103</td>\n      <td>0.531411</td>\n      <td>0.529780</td>\n      <td>0.531363</td>\n      <td>0.542143</td>\n      <td>0.543258</td>\n      <td>1.000000</td>\n      <td>0.546336</td>\n    </tr>\n    <tr>\n      <th>98200</th>\n      <td>0.527142</td>\n      <td>0.527280</td>\n      <td>0.527142</td>\n      <td>0.535974</td>\n      <td>0.552636</td>\n      <td>0.552221</td>\n      <td>0.532238</td>\n      <td>0.531706</td>\n      <td>0.519657</td>\n      <td>0.549685</td>\n      <td>...</td>\n      <td>0.531214</td>\n      <td>0.526748</td>\n      <td>0.545760</td>\n      <td>0.525116</td>\n      <td>0.537737</td>\n      <td>0.519127</td>\n      <td>0.536728</td>\n      <td>0.531447</td>\n      <td>0.546336</td>\n      <td>1.000000</td>\n    </tr>\n  </tbody>\n</table>\n<p>1000 rows × 1000 columns</p>\n</div>"
     },
     "metadata": {}
    }
   ],
   "source": [
    "sim_matrix = pd.DataFrame(1 / (1 + squareform(pdist(prod_matrix.T, \"cosine\"))), index=prod_matrix.columns, columns=prod_matrix.columns)\n",
    "sim_matrix.columns.name = \"\"\n",
    "display(sim_matrix)"
   ]
  },
  {
   "cell_type": "code",
   "execution_count": 104,
   "metadata": {},
   "outputs": [],
   "source": [
    "for cust in ids:\n",
    "    sim = sim_matrix[cust].sort_values(ascending=False)[1:6]\n",
    "    pur = qty.loc[sim.index].reset_index().groupby(\"ProductName\")[\"Quantity\"].sum().sort_values(ascending=False)\n",
    "    pur.drop(labels=qty[cust].index, errors=\"ignore\", inplace=True)\n",
    "    recommendations[cust] = pur[:5].index.tolist()"
   ]
  },
  {
   "cell_type": "code",
   "execution_count": 105,
   "metadata": {},
   "outputs": [
    {
     "output_type": "execute_result",
     "data": {
      "text/plain": "   CustomerID                      Product 1                   Product 2  \\\n0       61288                   Jagermeister  Wine - Two Oceans Cabernet   \n1       77352                    Bread - Rye             Fondant - Icing   \n2       40094              Juice - V8 Splash         Beef - Inside Round   \n3       23548                 Juice - Orange               Bagel - Plain   \n4       78981  Wine - Blue Nun Qualitatswein          Cookies - Assorted   \n\n                        Product 3                  Product 4  \\\n0                     Tofu - Firm  Appetizer - Sausage Rolls   \n1                Lettuce - Frisee              Pork - Kidney   \n2  Bread - Roll, Soft White Round       Truffle Cups - Brown   \n3               Veal - Sweetbread           Olives - Stuffed   \n4         Cheese - Cottage Cheese              Baking Powder   \n\n                 Product 5  \n0        Dc - Frozen Momji  \n1  Bread - French Baquette  \n2   Cake - Mini Cheesecake  \n3     Cinnamon Buns Sticky  \n4          Quiche Assorted  ",
      "text/html": "<div>\n<style scoped>\n    .dataframe tbody tr th:only-of-type {\n        vertical-align: middle;\n    }\n\n    .dataframe tbody tr th {\n        vertical-align: top;\n    }\n\n    .dataframe thead th {\n        text-align: right;\n    }\n</style>\n<table border=\"1\" class=\"dataframe\">\n  <thead>\n    <tr style=\"text-align: right;\">\n      <th></th>\n      <th>CustomerID</th>\n      <th>Product 1</th>\n      <th>Product 2</th>\n      <th>Product 3</th>\n      <th>Product 4</th>\n      <th>Product 5</th>\n    </tr>\n  </thead>\n  <tbody>\n    <tr>\n      <th>0</th>\n      <td>61288</td>\n      <td>Jagermeister</td>\n      <td>Wine - Two Oceans Cabernet</td>\n      <td>Tofu - Firm</td>\n      <td>Appetizer - Sausage Rolls</td>\n      <td>Dc - Frozen Momji</td>\n    </tr>\n    <tr>\n      <th>1</th>\n      <td>77352</td>\n      <td>Bread - Rye</td>\n      <td>Fondant - Icing</td>\n      <td>Lettuce - Frisee</td>\n      <td>Pork - Kidney</td>\n      <td>Bread - French Baquette</td>\n    </tr>\n    <tr>\n      <th>2</th>\n      <td>40094</td>\n      <td>Juice - V8 Splash</td>\n      <td>Beef - Inside Round</td>\n      <td>Bread - Roll, Soft White Round</td>\n      <td>Truffle Cups - Brown</td>\n      <td>Cake - Mini Cheesecake</td>\n    </tr>\n    <tr>\n      <th>3</th>\n      <td>23548</td>\n      <td>Juice - Orange</td>\n      <td>Bagel - Plain</td>\n      <td>Veal - Sweetbread</td>\n      <td>Olives - Stuffed</td>\n      <td>Cinnamon Buns Sticky</td>\n    </tr>\n    <tr>\n      <th>4</th>\n      <td>78981</td>\n      <td>Wine - Blue Nun Qualitatswein</td>\n      <td>Cookies - Assorted</td>\n      <td>Cheese - Cottage Cheese</td>\n      <td>Baking Powder</td>\n      <td>Quiche Assorted</td>\n    </tr>\n  </tbody>\n</table>\n</div>"
     },
     "metadata": {},
     "execution_count": 105
    }
   ],
   "source": [
    "recomm = pd.DataFrame.from_dict(recommendations, orient=\"index\").reset_index()\n",
    "recomm.columns = columns\n",
    "recomm.head()"
   ]
  }
 ],
 "metadata": {
  "kernelspec": {
   "display_name": "Python 3",
   "language": "python",
   "name": "python3"
  },
  "language_info": {
   "codemirror_mode": {
    "name": "ipython",
    "version": 3
   },
   "file_extension": ".py",
   "mimetype": "text/x-python",
   "name": "python",
   "nbconvert_exporter": "python",
   "pygments_lexer": "ipython3",
   "version": "3.8.5-final"
  }
 },
 "nbformat": 4,
 "nbformat_minor": 2
}